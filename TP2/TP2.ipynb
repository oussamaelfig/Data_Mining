{
 "cells": [
  {
   "cell_type": "markdown",
   "metadata": {
    "id": "DqQpOBTiDzDG"
   },
   "source": [
    "# INF8111 - Fouille de données / Data Mining\n",
    "## Été 2024 - TP2 - Fouille de réseaux sociaux / Mining of social networks\n",
    "### Membres de l'équipe / Team members\n",
    "    - Name1 - Student Id - 1\n",
    "    - Name2 - Student Id - 2\n",
    "    - Name3 - Student Id - 3\n"
   ]
  },
  {
   "cell_type": "markdown",
   "metadata": {
    "id": "Zqh6ruHXDzDK"
   },
   "source": [
    "## Instructions de remise / Submission\n",
    "\n",
    "Vous devez remettre dans la boîte de remise sur moodle:\n",
    "\n",
    "1. ce fichier nommé TP2\\_NomDuMembre1\\_NomDuMembre2\\_NomDuMembre3.ipynb\n",
    "\n",
    "**N.B**: Assurez-vous que tous les résultats soient lisibles lorsque le notebook est ouvert.\n",
    "\n",
    "Ce notebook être remis avant le **02 juin 2024 à 23h55**. Tout travail en retard sera pénalisé d’une valeur de 10\\% par jour ouvrable de retard.\n",
    "\n",
    "## Barème\n",
    "\n",
    "Partie 1: 10 points\n",
    "\n",
    "Partie 2: 6 points\n",
    "\n",
    "Partie 3: 4 points\n",
    "\n",
    "Pour un total de 20 points.\n",
    "\n",
    "\n",
    "---\n",
    "\n",
    "## Submission\n",
    "\n",
    "You must put back in the submission box on moodle:\n",
    "\n",
    "1. this file renamed TP2\\_NomDuMembre1\\_NomDuMembre2\\_NomDuMembre3.ipynb\n",
    "\n",
    "**N.B**: Make sure that all results are there when you open your notebook.\n",
    "\n",
    "Everything must be submitted before **June 2nd 2024 à 23h55**. Any late work will be penalized with a value of 10% per open day of delay.\n",
    "\n",
    "## Barème\n",
    "Part 1: 10 points\n",
    "\n",
    "Part 2: 6 points\n",
    "\n",
    "Part 3: 4 points\n",
    "\n",
    "For a total of 20 points.\n"
   ]
  },
  {
   "cell_type": "markdown",
   "metadata": {
    "id": "q1AIPBwaDzDL"
   },
   "source": [
    "## Réseaux sociaux / Social Networks\n",
    "Les réseaux sociaux occupent une grande partie de nos vies. Tout au long de sa,vie, chaque personne appartient à différentes communautés. Avec la récupération de ces informations par les différents réseaux sociaux, les data-analystes ont voulu exploiter ces données. C'est un domaine relativement nouveau qui est en pleine croissance avec de nombreux impacts, notamment sur la publicité et les systèmes de recommandation. \n",
    "\n",
    "### But\n",
    "Le but de ce TP est de vous donner un aperçu de l'analyse de réseau social.\n",
    "\n",
    "Dans la première partie, vous implémenterez un algorithme de détection de communautés dans un réseau social nommé LPAm+. Cet algorithme a été proposé par [X. Liu et T. Murata en 2010](https://www.sciencedirect.com/science/article/pii/S0378437109010152).\n",
    "\n",
    "Dans la deuxième partie, vous trouverez les personnes avec le plus d'influence dans leur réseau social. \n",
    "\n",
    "Pour les deux parties, nous vous fournissons les CSV contenant les réseaux sociaux à analyser.\n",
    "\n",
    "---\n",
    "\n",
    "## Social networks\n",
    "Social networks are a major component of the human life. Each person belongs throughout their life to different communities. With the aggregation of information on various online social media platforms, data analysts were interested in exploiting its data. It is a relatively new field that is growing with impacts on several aspects such as advertising and recommendation systems.\n",
    "\n",
    "\n",
    "### Goal\n",
    "The purpose of this lab is to give you an overview of social network analysis.\n",
    "\n",
    "In the first part, you will implement an algorithm for detecting communities in a social network called LPAm+. This algorithm was proposed by [X. Liu and T. Murata in 2010](https://www.sciencedirect.com/science/article/pii/S0378437109010152).\n",
    "\n",
    "In the second part, you will find the people with the most influence in their social network.\n",
    "\n",
    "For both parts, we provide you with the CSV containing the social networks to be analysed."
   ]
  },
  {
   "cell_type": "markdown",
   "metadata": {
    "id": "Ww_wy2y2DzDM"
   },
   "source": [
    "# 1. LPAm+ (10 points)\n",
    "\n",
    "## Détection de communauté\n",
    "La détection de communauté dans un réseau social est une manipulation fréquente lors de l'analyse d'un réseau. Une méthode de clustering est utilisée pour regrouper les personnes dans des communautés selon leurs liens. \n",
    "\n",
    "## LPAm+\n",
    "Dans cette partie, vous devez implémenter l'algorithme LPAm+ pour détecter les communautés parmi les personnages de l'univers cinématographique Marvel (MCU, en anglais). Vous devez utiliser les CSVs *nodes* et *edges* pour cela. \n",
    "\n",
    "Cet algorithme consiste à propager les étiquettes dans le réseau selon une règle d'évaluation optimisant la modularité du réseau. Lorsque l'algorithme atteint un optimum local, il regarde s'il peut fusionner deux communautés pour augmenter la modularité du réseau. L'algorithme choisit toujours la combinaison la plus avantageuse. Si une combinaison est trouvée, la propagation des étiquettes est refaite. L'algorithme continue tant qu'il peut améliorer la modularité. Vous pouvez lire l'article mentionné plus haut pour plus de détails, mais cela n'est pas nécessaire puisque vous allez être guidé tout le long du TP. \n",
    "\n",
    "Pour faciliter la représentation du réseau, nous vous proposons d'utiliser la librairie networkx. La documentation est disponible [ici](https://networkx.github.io/documentation/stable/tutorial.html).\n",
    "\n",
    "\n",
    "\n",
    "---\n",
    "\n",
    "## Community detection\n",
    "Community detection in a social network is a frequent manipulation when analysing a network. A clustering method is used to bring people together in communities according to the links between them.\n",
    "\n",
    "\n",
    "## LPAm+\n",
    "In this part, you will implement the LPAm+ algorithm to detect the communities among the characters of the Marvel Cinematic Universe (MCU). You must use the nodes and edges csv for this.\n",
    "\n",
    "This algorithm consists in propagating the labels in the network according to an evaluation rule optimizing the modularity of the network. When the algorithm reaches a local optimum, it checks whether it can combine two communities to increase the modularity of the network. The algorithm always chooses the most advantageous combination. If a combination is found, the propagation of the labels is redone. The algorithm continues until it is no longer able to increase modularity. You can read the article mentioned above for more details, but you do not need to, as you will be guided throughout the TP.\n",
    "\n",
    "\n",
    "To help you represent a network, we suggest that you use the networkx package.You can read more about the package [here](https://networkx.github.io/documentation/stable/tutorial.html)."
   ]
  },
  {
   "cell_type": "code",
   "execution_count": 2,
   "metadata": {
    "id": "1re6f2R8DzDN"
   },
   "outputs": [
    {
     "name": "stdout",
     "output_type": "stream",
     "text": [
      "Requirement already satisfied: numpy in c:\\users\\oussa\\appdata\\local\\programs\\python\\python312\\lib\\site-packages (1.26.3)\n",
      "Note: you may need to restart the kernel to use updated packages.\n",
      "Requirement already satisfied: pandas in c:\\users\\oussa\\appdata\\local\\programs\\python\\python312\\lib\\site-packages (2.1.4)\n",
      "Requirement already satisfied: numpy<2,>=1.26.0 in c:\\users\\oussa\\appdata\\local\\programs\\python\\python312\\lib\\site-packages (from pandas) (1.26.3)\n",
      "Requirement already satisfied: python-dateutil>=2.8.2 in c:\\users\\oussa\\appdata\\roaming\\python\\python312\\site-packages (from pandas) (2.8.2)\n",
      "Requirement already satisfied: pytz>=2020.1 in c:\\users\\oussa\\appdata\\local\\programs\\python\\python312\\lib\\site-packages (from pandas) (2023.3.post1)\n",
      "Requirement already satisfied: tzdata>=2022.1 in c:\\users\\oussa\\appdata\\local\\programs\\python\\python312\\lib\\site-packages (from pandas) (2023.4)\n",
      "Requirement already satisfied: six>=1.5 in c:\\users\\oussa\\appdata\\roaming\\python\\python312\\site-packages (from python-dateutil>=2.8.2->pandas) (1.16.0)\n",
      "Note: you may need to restart the kernel to use updated packages.\n",
      "Requirement already satisfied: matplotlib in c:\\users\\oussa\\appdata\\local\\programs\\python\\python312\\lib\\site-packages (3.8.2)\n",
      "Requirement already satisfied: contourpy>=1.0.1 in c:\\users\\oussa\\appdata\\local\\programs\\python\\python312\\lib\\site-packages (from matplotlib) (1.2.0)\n",
      "Requirement already satisfied: cycler>=0.10 in c:\\users\\oussa\\appdata\\local\\programs\\python\\python312\\lib\\site-packages (from matplotlib) (0.12.1)\n",
      "Requirement already satisfied: fonttools>=4.22.0 in c:\\users\\oussa\\appdata\\local\\programs\\python\\python312\\lib\\site-packages (from matplotlib) (4.47.2)\n",
      "Requirement already satisfied: kiwisolver>=1.3.1 in c:\\users\\oussa\\appdata\\local\\programs\\python\\python312\\lib\\site-packages (from matplotlib) (1.4.5)\n",
      "Requirement already satisfied: numpy<2,>=1.21 in c:\\users\\oussa\\appdata\\local\\programs\\python\\python312\\lib\\site-packages (from matplotlib) (1.26.3)\n",
      "Requirement already satisfied: packaging>=20.0 in c:\\users\\oussa\\appdata\\roaming\\python\\python312\\site-packages (from matplotlib) (23.2)\n",
      "Requirement already satisfied: pillow>=8 in c:\\users\\oussa\\appdata\\local\\programs\\python\\python312\\lib\\site-packages (from matplotlib) (10.2.0)\n",
      "Requirement already satisfied: pyparsing>=2.3.1 in c:\\users\\oussa\\appdata\\local\\programs\\python\\python312\\lib\\site-packages (from matplotlib) (3.1.1)\n",
      "Requirement already satisfied: python-dateutil>=2.7 in c:\\users\\oussa\\appdata\\roaming\\python\\python312\\site-packages (from matplotlib) (2.8.2)\n",
      "Requirement already satisfied: six>=1.5 in c:\\users\\oussa\\appdata\\roaming\\python\\python312\\site-packages (from python-dateutil>=2.7->matplotlib) (1.16.0)\n",
      "Note: you may need to restart the kernel to use updated packages.\n",
      "Requirement already satisfied: networkx in c:\\users\\oussa\\appdata\\local\\programs\\python\\python312\\lib\\site-packages (3.2.1)\n",
      "Note: you may need to restart the kernel to use updated packages.\n"
     ]
    }
   ],
   "source": [
    "# vous pouvez bien sûr utiliser anaconda pour installer les packages\n",
    "\n",
    "%pip install --user numpy\n",
    "%pip install --user pandas\n",
    "%pip install --user matplotlib\n",
    "%pip install --user networkx"
   ]
  },
  {
   "cell_type": "code",
   "execution_count": 3,
   "metadata": {
    "id": "ougnwqizDzDP"
   },
   "outputs": [
    {
     "name": "stdout",
     "output_type": "stream",
     "text": [
      "networkx: 3.2.1\n",
      "matplotlib: 3.8.2\n"
     ]
    }
   ],
   "source": [
    "# vérifier si les libraries sont bien installés\n",
    "\n",
    "import networkx\n",
    "print('networkx: {}'.format(networkx.__version__))\n",
    "\n",
    "import matplotlib\n",
    "print('matplotlib: {}'.format(matplotlib.__version__))"
   ]
  },
  {
   "cell_type": "code",
   "execution_count": 4,
   "metadata": {
    "id": "jsBjqzWiDzDQ"
   },
   "outputs": [],
   "source": [
    "from itertools import combinations\n",
    "import numpy as np\n",
    "import networkx as nx\n",
    "import random\n",
    "import itertools\n",
    "import math\n",
    "random.seed(42)\n",
    "np.random.seed(42)\n",
    "class LPAmPlus:\n",
    "    \"\"\"\n",
    "    Constructor\n",
    "    \"\"\"\n",
    "    def __init__(self, graph):\n",
    "        \"\"\"\n",
    "        graph gives the graph on which the algorithm will be applied;\n",
    "        \"\"\"\n",
    "        self.graph = graph\n",
    "        self.nodes = self.graph.number_of_nodes()\n",
    "        self.edges = self.graph.number_of_edges()\n",
    "        self.matrix = nx.linalg.modularity_matrix(self.graph)\n",
    "        \"\"\"\n",
    "        labels gives all the communities present in the network\n",
    "        \"\"\"\n",
    "         # initially, each node represents a community = node number\n",
    "        self.labels = list(range(self.nodes))\n",
    "        for node in self.graph.nodes:\n",
    "            self.graph.nodes[node]['label'] = node\n",
    "    \"\"\"\n",
    "    Term to optimize when replacing labels\n",
    "    \"\"\"\n",
    "    def label_evaluation(self, current_node, new_label):\n",
    "        modularity_sum_update = 0\n",
    "        for i in range(0,self.nodes):\n",
    "            if (i != current_node) and (self.graph.nodes[i]['label'] == new_label):\n",
    "                modularity_sum_update += self.matrix[i, current_node]\n",
    "        return modularity_sum_update\n",
    "    \"\"\"\n",
    "    Function to choose the new label for a node\n",
    "    \"\"\"\n",
    "    def update_label(self, current_node):\n",
    "        possible_labels = list(map(self.label_evaluation, [current_node]*self.nodes, self.labels))\n",
    "        self.graph.nodes[current_node]['label'] = self.graph.nodes[np.argmax(possible_labels)]['label']\n",
    "        return\n",
    "    \"\"\"\n",
    "    Function that calculates the current modularity of the network\n",
    "    \"\"\"\n",
    "    def modularity(self):\n",
    "        modularity_sum = 0\n",
    "        for i in range(0, self.nodes):\n",
    "            for j in range(0, self.nodes):\n",
    "                if self.graph.nodes[i]['label'] == self.graph.nodes[j]['label']:\n",
    "                    modularity_sum += self.matrix[i,j]\n",
    "        return 1/(2*self.edges) * modularity_sum\n",
    "    \"\"\"\n",
    "    Function that applies the LPAm algorithm on the network\n",
    "    \"\"\"\n",
    "    def LPAm(self, max_iteration = 1000):\n",
    "        for iter in range(max_iteration): # max iteration = 1000\n",
    "            current_mod = self.modularity() # current modularity\n",
    "            current_labels = [self.graph.nodes[i]['label'] for i in self.graph.nodes]\n",
    "#             print(f'Current Unique Labels : {np.unique(self.labels)}, modularity : {current_mod}')\n",
    "            for current_node in self.graph.nodes:\n",
    "                self.update_label(current_node)\n",
    "            self.labels = [self.graph.nodes[i]['label'] for i in self.graph.nodes]\n",
    "#             self.matrix = nx.linalg.modularity_matrix(self.graph)\n",
    "#             new_mod = self.modularity() # modularity after update\n",
    "#             if abs(new_mod - current_mod) <= 1e-5:\n",
    "            if current_labels == self.labels:\n",
    "                return # check if the modularity increases, if no big difference, stop iteration\n",
    "        return\n",
    "    \"\"\"\n",
    "    Function that find which communities to combine and combine them\n",
    "    \"\"\"\n",
    "    def merge_communities(self):\n",
    "        current_label = self.labels\n",
    "        current_mod = self.modularity()\n",
    "        current_unique_label_subset = list(itertools.combinations(np.unique(current_label), 2))\n",
    "        best_mod = current_mod\n",
    "        best_label = current_label.copy()\n",
    "        # replace label_combo[1] by label_combo[0] ex,label_combo = (1,2), result : [1 2 5 6 2] --> [1 1 5 1 6]\n",
    "        for label_combo in current_unique_label_subset:\n",
    "            for i in [[0,1], [1,0]]:\n",
    "                mergelabel = np.array(self.labels)\n",
    "                mergelabel[mergelabel == label_combo[i[0]]] = label_combo[i[1]]\n",
    "                for node, label in enumerate(mergelabel):\n",
    "                    self.graph.nodes[node]['label'] = label\n",
    "                new_mod = self.modularity()\n",
    "                if new_mod > best_mod:\n",
    "                    best_mod = new_mod\n",
    "                    best_label = mergelabel.copy()\n",
    "                else:\n",
    "                    for node in self.graph.nodes:\n",
    "                        self.graph.nodes[node]['label'] = current_label[node]\n",
    "        if best_mod > current_mod:\n",
    "            self.labels = best_label.tolist()\n",
    "            for node, label in enumerate(self.labels):\n",
    "                self.graph.nodes[node]['label'] = label\n",
    "            return True\n",
    "        return False\n",
    "    \"\"\"\n",
    "    Function that applies the LPAm+ algorithm on the network\n",
    "    \"\"\"\n",
    "    def find_communities(self):\n",
    "        self.LPAm()\n",
    "        while self.merge_communities():\n",
    "            self.LPAm()\n",
    "        return"
   ]
  },
  {
   "cell_type": "markdown",
   "metadata": {
    "id": "uPHv-JEnDzDR"
   },
   "source": [
    "### 1.1 Dataset (1 point)\n",
    "\n",
    "Nous vous avons fourni le fichier *`tp-marvel-dataset-subset.csv`* contenant l'ensemble des personnages de l'univers cinématographique Marvel. Vous devez maintenant créer un graphe reliant tous les personnages. Vous devez suivre les règles ci-dessous :\n",
    "\n",
    "#### Mise en œuvre\n",
    "1. Implémentez la fonction *`load_unweighted_network`*. Cette fonction retourne un graphe non orienté et non pondéré.\n",
    "2. Chaque personnage est un nœud unique du graphe. Aucun personnage ne peut donc apparaître deux fois dans le graphe.\n",
    "3. Tous les personnages d'un même film doivent être connectés.\n",
    "\n",
    "Utilisez la fonction `test_load` pour vérifier votre implémentation de la fonction. Ce test utilise un sous-ensemble de l'ensemble de données. Vous devriez obtenir un résultat semblable à celui-ci :\n",
    "\n",
    "![titre](picture.png)\n",
    "\n",
    "---\n",
    "We have provided you with the a .CSV file, called *`tp-marvel-dataset-subset.csv`*, with all the characters from movies in the Marvel Cinematic Universe. You must now create a graph connecting all the characters. You should follow the rules below:\n",
    "\n",
    "#### Implementation\n",
    "1. Implement the function *`load_unweighted_network`*. This function returns a undirected and unweighted graph.\n",
    "2. Each character must be a single node inside the graph. No character should appear twice in the graph. \n",
    "3. All characters in a same movie should be connected.\n",
    "\n",
    "Use the function `test_load` to verify your implementation of the function. This test uses a subset of the whole dataset. You should obtain a result similar to this:\n",
    "\n",
    "![title](picture.png)\n"
   ]
  },
  {
   "cell_type": "code",
   "execution_count": 5,
   "metadata": {
    "id": "gEFqXHojDzDR"
   },
   "outputs": [],
   "source": [
    "import pandas as pd\n",
    "import networkx as nx\n",
    "from itertools import combinations\n",
    "\n",
    "def load_unweighted_network(source_csv):\n",
    "    df = pd.read_csv(source_csv, delimiter=';')\n",
    "    network = nx.Graph()\n",
    "\n",
    "    unique_heroes = df[['Hero_id', 'Hero_name']].drop_duplicates()\n",
    "    for hero_id, hero_name in unique_heroes.values:\n",
    "        network.add_node(hero_id, name=hero_name)\n",
    "\n",
    "    grouped = df.groupby('Movie')['Hero_id'].unique()\n",
    "    for heroes in grouped:\n",
    "        if len(heroes) > 1:\n",
    "            edges = combinations(heroes, 2)\n",
    "            network.add_edges_from(edges)\n",
    "\n",
    "    return network"
   ]
  },
  {
   "cell_type": "code",
   "execution_count": 6,
   "metadata": {
    "id": "e2QFS4CmDzDS"
   },
   "outputs": [
    {
     "data": {
      "image/png": "[encoded data removed]",
      "text/plain": [
       "<Figure size 640x480 with 1 Axes>"
      ]
     },
     "metadata": {},
     "output_type": "display_data"
    },
    {
     "data": {
      "text/plain": [
       "<Figure size 2000x2000 with 0 Axes>"
      ]
     },
     "metadata": {},
     "output_type": "display_data"
    }
   ],
   "source": [
    "import matplotlib.pyplot as plt\n",
    "\n",
    "def test_load():\n",
    "    network = load_unweighted_network(\"data/tp-marvel-dataset-subset.csv\")\n",
    "    nx.draw_networkx(network, node_size=60, font_size=10, edge_color = 'gray', font_color='black')\n",
    "    plt.figure(figsize=(20,20))\n",
    "    plt.show()\n",
    "\n",
    "test_load()"
   ]
  },
  {
   "cell_type": "markdown",
   "metadata": {
    "id": "tagfYdSYDzDT"
   },
   "source": [
    "### 1.2  Modularité / Modularity (1 point)\n",
    "\n",
    "La modularité $Q$ du réseau est une mesure importante pour l'algorithme: elle permet de savoir si l'algorithme a atteint un optimum local. $$ Q=\\frac{1}{2m}\\sum_{u,v=1}^n B_{uv}\\delta(l_u,l_v)$$ \n",
    "\n",
    "- m: nombre d'arêtes\n",
    "- l: étiquette d'un sommet\n",
    "- u, v: sommets du réseau\n",
    "- B: matrice de modularité (chaque élément vaut $A_{uv} - P_{uv}$)\n",
    "- $A_{uv}$: vaut 1 si il y une arête entre u et v sinon 0\n",
    "- $P_{uv}$: la probabilité qu'il y ait une arête entre u et v selon le modèle nul  $$P_{uv}=\\frac{degree(u)*degree(v)}{2m}$$\n",
    "- $\\delta(l_u,l_v)$: symbole de Kronecker, vaut 1 si les deux labels sont identiques sinon 0\n",
    "\n",
    "#### Implémentation\n",
    "1. Implémentez  la fonction  `modularity`  dans LPAmPlus. Cette fonction retourne la modularité du réseau. Vous pouvez utiliser la fonction `nx.linalg.modularity_matrix` de networkx pour calculer la matrice B. **N.B:** Networkx permet d'ajouter du data sur les sommets pour garder des informations sur le node. Les `nodes` agissent comme des dictionnaires.\n",
    "\n",
    "Utilisez la fonction `test_modularity` pour vérifier votre implémentation de la fonction. Vous devriez obtenir une modularité d'environ 0.019.\n",
    "\n",
    "---\n",
    "\n",
    "The modularity $Q$ of the network is an important measure for the algorithm. The algorithm uses it to determine if it reached a local optimum or not. $$ Q=\\frac{1}{2m}\\sum_{u,v=1}^n B_{uv}\\delta(l_u,l_v)$$ \n",
    "\n",
    "- m: number of edges\n",
    "- l: node's label\n",
    "- u, v: nodes in the graph\n",
    "- B: modularity matrix where each element is $A_{uv} - P_{uv}$\n",
    "- $A_{uv}$: is 1 if there is an edge between u and v else 0\n",
    "- $P_{uv}$: probability that there is an edge between u and v following the null model $$P_{uv}=\\frac{degree(u)*degree(v)}{2m}$$\n",
    "- $\\delta(l_u,l_v)$: Kronecker's delta, is 1 if labels are the same else 0\n",
    "\n",
    "#### Implementation\n",
    "1. Implement the function `modularity` in the class LPAmPlus. This function returns the modularity of the network. You can use the function `nx.linalg.modularity_matrix` from networkx to calculate B. **N.B:** You can add data to nodes with Networkx to store information about the node. You can add data to nodes with Networkx to store information about the node. The nodes act like a dictionnary.\n",
    "\n",
    "Use the function `test_modularity` to test your implementation. You should have a modularity of 0.010."
   ]
  },
  {
   "cell_type": "code",
   "execution_count": 7,
   "metadata": {
    "id": "k1JIWRufDzDT"
   },
   "outputs": [
    {
     "name": "stdout",
     "output_type": "stream",
     "text": [
      "Modularity: 0.010\n"
     ]
    }
   ],
   "source": [
    "def test_modularity():\n",
    "    social_network = load_unweighted_network(\"data/tp-marvel-dataset-subset.csv\")\n",
    "    lpam = LPAmPlus(social_network)\n",
    "    lpam.labels = [0, 1]\n",
    "    for i in range(0, 19):\n",
    "        lpam.graph.nodes[i]['label'] = 0 if i < 10 else 1\n",
    "    print(\"Modularity: {:.3f}\".format(lpam.modularity()))\n",
    "\n",
    "test_modularity()"
   ]
  },
  {
   "cell_type": "markdown",
   "metadata": {
    "id": "lflryGWyDzDT"
   },
   "source": [
    "### 1.3 Règle de modification des étiquettes / Updating rule for the labels (2 points)\n",
    "\n",
    "Comme mentionné plus haut, l'algorithme est basé sur une optimisation de la modularité. Il vous est demandé d'implémenter le terme à optimiser. La nouvelle étiquette $l_x^{new}$ correspond à l'étiquette pour laquelle la somme a la plus grande valeur.\n",
    "$$l_x^{new}=\\arg\\max_l\\sum_{u=1}^n B_{ux}\\delta(l_u,l)$$\n",
    "\n",
    "- n: le nombre de sommets\n",
    "- m: le nombre d'arêtes\n",
    "- l: une étiquette possible pour le sommet x\n",
    "- x: le sommet qu'on évalue en ce moment\n",
    "- u: un autre sommet dans le réseau (commence à 1, car on exclut le sommet x)\n",
    "- B: la matrice de modularité où chaque élément vaut $A_{ux} - P_{ux}$\n",
    "- $A_{ux}$: vaut 1 si il y une arête entre u et x sinon 0\n",
    "- $P_{ux}$: la probabilité qu'il y ait une arête entre u et x selon le modèle nul  $$P_{ux}=\\frac{degree(u)*degree(x)}{2m}$$\n",
    "- $\\delta(l_u,l)$: delta de Kronecker, vaut 1 si les deux labels sont identiques sinon 0\n",
    "\n",
    "\n",
    "#### Implémentation\n",
    "1. Implémenter la fonction `label_evaluation`. Cette fonction retourne la valeur du terme à optimiser. Vous pouvez utiliser la fonction `linalg.modularity_matrix` de networkx pour calculer la matrice B. Il est normal qu'il y ait une ressemblance avec le calcul de la modularité selon la définition que vous avez prise. `new_label` correspond donc à un $l$ possible dans le terme.\n",
    "2. Implémenter la fonction `update_label`. Cette fonction met à jour la nouvelle étiquette pour un sommet. En cas d'égalité, la fonction choisit une étiquette au hasard parmi les meilleurs. N'oubliez pas d'enlever les étiquettes désuètes du paramètre `labels`. **N.B:** Il est possible que la meilleure étiquette soit celle actuelle du sommet.\n",
    "\n",
    "Networkx permet d'ajouter du data sur les sommets. Les sommets sont des dictionnaires dans le graphe.\n",
    "\n",
    "---\n",
    "\n",
    "As mentioned above, the algorithm is strongly based on its optimization of modularity. You are now asked to implement the term to optimize. The new label $l_x^{new}$ corresponds to the label for which the sum gives the greatest value.\n",
    "$$l_x^{new}=\\arg\\max_l\\sum_{u=1}^n B_{ux}\\delta(l_u,l)$$\n",
    "\n",
    "- n: number of nodes\n",
    "- m: number of edges\n",
    "- l: a possible label for the node x\n",
    "- x: current node being evaluated\n",
    "- u: another node in the network (starts at 1, because we exclude the node x)\n",
    "- B: modularity matrix where each element is $A_{ux} - P_{ux}$\n",
    "- $A_{ux}$: is 1 if there is an edge between u and x else 0\n",
    "- $P_{ux}$: the probability that there is an edge between u and x  following the null model  $$P_{ux}=\\frac{degree(u)*degree(x)}{2m}$$\n",
    "- $\\delta(l_u,l)$: Kronecker's delta, is 1 if labels are the same else 0\n",
    "\n",
    "\n",
    "#### Implementation\n",
    "1. Implement the function `label_evaluation`. This function returns the value for the term to optimize. You can use the function `linalg.modularity_matrix` from networkx to calculate B. It is normal if there is a similarity with the modularity depending on the definition you took. `new_label` represent a possible $l$ in the term.\n",
    "2. Implement the function `update_label`. This function chooses the new label for the current node. If there is more than one label with the max value, the function chooses randomly one amoung those. Don't forget to remove the unused labels from the `labels` attribute. **N.B:** The best label can be the node's current label. \n",
    "\n",
    "You can add data to nodes with Networkx to store information about the node. The nodes act like a dictionnary.\n",
    "\n"
   ]
  },
  {
   "cell_type": "markdown",
   "metadata": {
    "id": "bceEw3PvDzDU"
   },
   "source": [
    "### 1.4 LPAm (2 points)\n",
    "\n",
    "Vous pouvez maintenant implémenter l'algorithme LPAm. Cet algorithme est le prédécesseur de LPAm+ puisque LPAm+ a été crée pour contourner une faiblesse de LPAm.  LPAm est un algorithme de propapagation d'étiquettes basé sur la modularité. Il commence par donner une étiquette unique à chaque sommet. Il explore par la suite tous les sommets et modifie leur étiquette selon la fonction d'évaluation que vous avez implémentée plus tôt. L'algorithme continue la propagation d'étiquette à travers tous les sommets jusqu'à un optimum de la modularité.\n",
    "\n",
    "#### Implémentation\n",
    "1. Ajouter les étiquettes initiales aux sommets du graphe avec la fonction `__init__`. Il faut que chaque sommet soit dans sa propre communauté au début de l'algorithme. Initialiser le paramètre `labels` pour qu'il contient la liste des étiquettes présentes dans le réseau.\n",
    "\n",
    "2. Implémenter l'algorithme LPAm dans la fonction `LPAm`. Assurez-vous de toujours augmenter la modularité lors de vos changements d'étiquettes. N'oubliez pas de garder le paramètre `labels` à jour à fur et à mesure lors de vos changements pour ne pas évaluer plusieurs fois la même étiquette.\n",
    "\n",
    "Utilisez la fonction `test_lpam` pour vérifier votre implémentation. Vous devriez finir avec une modularité d'environ 0.184 avec 5 communautés.\n",
    "\n",
    "---\n",
    "\n",
    "You can now implement the LPAm algorithm. This algorithm is the predecessor of LPAm+ since LPAm+ was created to overcome LPAm's weakness. LPAm is a label probagation algorithm based on modularity. It begins by giving a unique label to each node. It then explores all the nodes and changes their label according to the evaluation function that you implemented earlier. The algorithm continues until it can no longer improve the modularity of the network.\n",
    "\n",
    "#### Implementation\n",
    "1. Add the initial labels to the nodes in the graph in the function `__init__`. Each nodes has to be in their own community in the beginning. Initialise `labels` with the current list of labels present in the graph.\n",
    "\n",
    "2. Implement the LPAm algorithm in the function`LPAm`. Make sure that all your labels changes improve the modularity. Don't forget to keep your `labels` parameter is kept up-to-date so that you dont evaluate the same label multiple times or unused labels.\n",
    "\n",
    "Use the function `test_lpam` to verify your implementation. You should have a modularity of 0.184 with 5 communities."
   ]
  },
  {
   "cell_type": "code",
   "execution_count": 8,
   "metadata": {
    "id": "WwOv71SBDzDU"
   },
   "outputs": [
    {
     "name": "stdout",
     "output_type": "stream",
     "text": [
      "Modularity: 0.184\n",
      "Communities: [12, 5, 14, 10, 5, 5, 10, 5, 18, 14, 10, 14, 12, 14, 14, 14, 14, 18, 18]\n"
     ]
    }
   ],
   "source": [
    "def test_lpam():\n",
    "    social_network = load_unweighted_network(\"data/tp-marvel-dataset-subset.csv\")\n",
    "    lpam = LPAmPlus(social_network)\n",
    "    lpam.LPAm()\n",
    "    print(\"Modularity: {:.3f}\\nCommunities: {}\".format(lpam.modularity(), lpam.labels))\n",
    "\n",
    "test_lpam()"
   ]
  },
  {
   "cell_type": "markdown",
   "metadata": {
    "id": "_9E9ud6rDzDU"
   },
   "source": [
    "### 1.5 LPAm+ (2 points)\n",
    "\n",
    "Vous pouvez maintenant implémenter LPAm+ au complet. LPAm+ est une amélioration de LPAm. Lorsque LPAm tombe dans un optimum local, LPAm+ essaye de combiner deux communautés pour augmenter la modularité et ainsi sortir du optimum local. LPAm+ choisit la combinaison qui augmente le plus la modularité et recommence la propagation d'étiquette jusqu'au prochain optimum local où il va réessayer de combiner des communautés. L'algorithme continue jusqu'à qu'il ne puisse plus augmenter la modularité.\n",
    "\n",
    "#### Implémentation\n",
    "1. Implémentez  la fonction  `merge_communities`. Cette fonction évalue si combiner des communautés augmente la modularité et combine le meilleur choix. Elle retourne True si une combinaison a été faite sinon False (aucune combinaison augmente la modularité).\n",
    "2. Implémenter `find_communities`. Cette fonction applique l'algorithme LPAm+ sur le réseau en utilisant les fonctions `LPAm` et `merge_communities`.\n",
    "\n",
    "Utilisez la fonction `test_lpam_plus` pour vérifier votre implémentation. Vous devriez finir avec une modularité d'environ 0.204 et 3 communautés.\n",
    "\n",
    "---\n",
    "\n",
    "You can now fully implement LPAm+. As said before LPAm+ is an amelioration of LPAm. The issue with LPAm is that it stops when it finds a local optimun. To prevent that, LPAm+ tries to combine two communities to increase modularity and escape the local optimun. LPAm+ chooses the combination that most increases modularity and restart the label's propagation until the next local optimum where it will try to combine two communities again. The algorithm continues until it can no longer increase modularity.\n",
    "\n",
    "#### Implementation\n",
    "1. Implement the function  `merge_communities`. This function check if combining communities improve the modularity and combine the best choice. It returns True if a combinaison was made else False (no combination increase the modularity).\n",
    "2. Implement the LPAM+ algorithm in the function `find_communities` using the fonctions `LPam` and `merge_communities`.\n",
    "\n",
    "Use the function `test_lpam_plus` to verify your implementation. You should end with a modularity of 0.204 and 3 communities."
   ]
  },
  {
   "cell_type": "code",
   "execution_count": 9,
   "metadata": {
    "id": "blXGH-woDzDV"
   },
   "outputs": [
    {
     "name": "stdout",
     "output_type": "stream",
     "text": [
      "Modularity: 0.204\n",
      "Communities: [18, 5, 14, 18, 5, 5, 18, 5, 18, 14, 18, 14, 18, 14, 14, 14, 14, 18, 18]\n"
     ]
    }
   ],
   "source": [
    "def test_lpam_plus():\n",
    "    social_network = load_unweighted_network(\"data/tp-marvel-dataset-subset.csv\")\n",
    "    lpam = LPAmPlus(social_network)\n",
    "    lpam.find_communities()\n",
    "    print(\"Modularity: {:.3f}\\nCommunities: {}\".format(lpam.modularity(), lpam.labels))\n",
    "\n",
    "test_lpam_plus()"
   ]
  },
  {
   "cell_type": "markdown",
   "metadata": {
    "id": "v8srl1uFDzDV"
   },
   "source": [
    "### 1.6 MCU dataset (2 points)\n",
    "\n",
    "Exécutez votre algorithme sur l'ensemble de données de caractères MCU complet (*`tp-marvel-dataset.csv`*) et comparez ce que vous obtenez avec les communautés réelles. Ces communautés réelles se trouvent dans la colonne Affiliation du csv.\n",
    "\n",
    "Commencez par calculer le RI (Rand index) de vos résultats. $$ RI=\\frac{TP+TN}{TP+TN+FP+FN} = \\frac{TP+TN}{\\binom{n}{2}}$$\n",
    "\n",
    "- n : nombre de nœuds\n",
    "- TP : Vrai positif le nombre de paires d'éléments qui sont dans la même communauté dans vos résultats et dans la vérité terrain\n",
    "- TN : Vrai négatif le nombre de paires d'éléments qui se trouvent dans des communautés différentes dans vos résultats et dans la vérité terrain\n",
    "- FP : Faux positif le nombre de paires d'éléments qui sont dans la même communauté dans vos résultats mais qui sont dans des communautés différentes dans la vérité terrain\n",
    "- FN : Faux négatif le nombre de paires d'éléments qui sont dans des communautés différentes dans vos résultats mais qui sont dans la même communauté dans la vérité terrain\n",
    "\n",
    "**N.B :** Ce qui compte ici, c'est la composition des communautés que vous avez trouvées, pas les noms. Un TP, c'est quand le nœud a et le nœud b sont tous les deux dans les mêmes communautés dans votre résultat et dans la vérité terrain.\n",
    "\n",
    "Répondre aux questions suivantes. Ce sont des guides pour votre analyse.\n",
    "\n",
    "- L'algorithme fonctionne-t-il bien ?\n",
    "- Le manque de nombreuses communautés affecte-t-il les performances algorithmiques ?\n",
    "- Comment le fait de connecter tous les personnages d'un film affecte-t-il les résultats ?\n",
    "- Expliquez pourquoi vous avez obtenu ces résultats en analysant les communautés dans l'ensemble de données. Quelles particularités offrent de meilleurs résultats ou entravent l'algorithme ?\n",
    "\n",
    "Vous pouvez faire les manipulations que vous souhaitez pour mieux présenter vos résultats et mieux étayer vos propos.\n",
    "\n",
    "---\n",
    "\n",
    "Run your algorithm over whole MCU characters dataset (*`tp-marvel-dataset.csv`*) and compare what you get and the real communities. The ground truth is found in the Affiliation column in the csv. \n",
    "\n",
    "Start by calculating the RI (Rand index) of your results. $$ RI=\\frac{TP+TN}{TP+TN+FP+FN} = \\frac{TP+TN}{\\binom{n}{2}}$$\n",
    "\n",
    "- n: number of nodes\n",
    "- TP: True positive the number of pairs of elements that are in the same community in your results and in the ground truth\n",
    "- TN: True negative the number of pairs of elements that are in different communities in your results and in the ground truth\n",
    "- FP: False positive the number of pairs of elements which are in the same community in your results but which are in different communities in the ground truth\n",
    "- FN: False negative the number of pairs of elements which are in different communities in your results but which are in the same community in the ground truth\n",
    "\n",
    "**N.B:** What matters here is the composition of the communities you found not the names. A TP is when the node a and the node b are both in the same communities in your result and in the ground truth.\n",
    "\n",
    "Answer the following questions. They are guides for your analysis.\n",
    "\n",
    "- Does the algorithm perform well?\n",
    "- Does the lack of many communities affect the algorithmic performance?\n",
    "- How does the fact of connecting all characters in a movie affect the results?\n",
    "- Explain why you obtained those results by analysing the communities in the dataset. Which particularities offer better results, or hinder the algorithm?\n",
    "\n",
    "You can do the manipulations you want to better present your results and better support your statements."
   ]
  },
  {
   "cell_type": "markdown",
   "metadata": {
    "id": "S1y0vz2wDzDV"
   },
   "source": [
    "#### Résultats / Results"
   ]
  },
  {
   "cell_type": "code",
   "execution_count": 10,
   "metadata": {
    "id": "iteF1Me9DzDW"
   },
   "outputs": [
    {
     "name": "stdout",
     "output_type": "stream",
     "text": [
      "Modularity: 0.437\n",
      "Communities: [  2  16  21  29  44 138 176 211]\n",
      "Rand Index (RI): 0.33336684259026556\n",
      "True Positive (TP): 6081\n",
      "True Negative (TN): 13816\n",
      "False Positive (FP): 2345\n",
      "False Negative (FN): 37443\n"
     ]
    }
   ],
   "source": [
    "# Caculate the modularity\n",
    "social_network = load_unweighted_network(\"data/tp-marvel-dataset.csv\")\n",
    "network = LPAmPlus(social_network)\n",
    "network.find_communities()\n",
    "unique_lbs = np.unique(network.labels)\n",
    "print(\"Modularity: {:.3f}\\nCommunities: {}\".format(network.modularity(), np.unique(network.labels)))\n",
    "# Initialize an empty dictionary to store nodes grouped by label\n",
    "grouped_nodes = {}\n",
    "# Iterate over nodes and group them by label\n",
    "for node in range(network.nodes):\n",
    "    label = network.graph.nodes[node]['label']\n",
    "    if label in grouped_nodes:\n",
    "        grouped_nodes[label].append(node)\n",
    "    else:\n",
    "        grouped_nodes[label] = [node]\n",
    "# Initialize an empty dictionary to store affiliations and their associated hero IDs\n",
    "ground_truth = {}\n",
    "df = pd.read_csv(\"data/tp-marvel-dataset.csv\", sep=';')\n",
    "grouped = df.groupby('Affiliation')\n",
    "for affiliation, group_data in grouped:\n",
    "    ground_truth[affiliation] = set(group_data['Hero_id'].tolist())\n",
    "from itertools import combinations\n",
    "TP = 0\n",
    "TN = 0\n",
    "FP = 0\n",
    "FN = 0\n",
    "# Iterate over all pairs of nodes\n",
    "for node1, node2 in combinations(network.graph.nodes, 2):\n",
    "    # Check if nodes belong to the same community in both results and ground truth\n",
    "    if any(node1 in group and node2 in group for group in grouped_nodes.values()):\n",
    "        if any(node1 in affiliation and node2 in affiliation for affiliation in ground_truth.values()):\n",
    "            TP += 1\n",
    "        else:\n",
    "            FP += 1\n",
    "    else:\n",
    "        if not any(node1 in affiliation and node2 in affiliation for affiliation in ground_truth.values()):\n",
    "            TN += 1\n",
    "        else:\n",
    "            FN += 1\n",
    "# Calculate the Rand Index\n",
    "RI = (TP + TN) / (TP + TN + FP + FN)\n",
    "print(f\"Rand Index (RI): {RI}\\nTrue Positive (TP): {TP}\\nTrue Negative (TN): {TN}\\nFalse Positive (FP): {FP}\\nFalse Negative (FN): {FN}\")"
   ]
  },
  {
   "cell_type": "markdown",
   "metadata": {
    "id": "Ee4mLl8FDzDW"
   },
   "source": [
    "#### Analyse / Analysis\n"
   ]
  },
  {
   "cell_type": "code",
   "execution_count": 11,
   "metadata": {
    "id": "h42s5mBIDzDW"
   },
   "outputs": [
    {
     "name": "stdout",
     "output_type": "stream",
     "text": [
      "Number of nodes: 346\n",
      "Number of edges: 6869\n",
      "Is the graph connected? No\n",
      "Number of connected components: 2\n"
     ]
    }
   ],
   "source": [
    "num_nodes = social_network.number_of_nodes()\n",
    "num_edges = social_network.number_of_edges()\n",
    "\n",
    "print(f\"Number of nodes: {num_nodes}\")\n",
    "print(f\"Number of edges: {num_edges}\")\n",
    "print(f\"Is the graph connected? {'Yes' if nx.is_connected(social_network) else 'No'}\")\n",
    "print(f\"Number of connected components: {nx.number_connected_components(social_network)}\")"
   ]
  },
  {
   "cell_type": "markdown",
   "metadata": {},
   "source": [
    "D'abord le nombre de noeuds signifie que le réseau comporte 346 personnages distincts et le nombre d'arêtes signifie qu'il y a 6 869 connexions ou interactions entre les personnages dans le réseau. Cela permet de connaître la taille et la complexité du réseau en indiquant le nombre de personnages de film connectés. \n",
    "\n",
    "Aussi, le nombre d'arêtes représente à la densité du réseau. Il y a donc un nombre élevé (dense) d'arrêtes par rapport au nombre de noeuds, ce qui suggère que le réseau est très connecté et donc influencé la détection de communautés. Cela peut aussi avoir un impact sur la modularité, car des réseaux denses tendent à avoir des communautés bien définies.\n",
    "\n",
    "De plus, le graphe n'est pas connecté, ce qui indique qu'il existe au moins un personnage ou un groupe de personnages qui n'a pas de connexion directe ou indirecte avec d'autres personnages dans le réseau. La connectivité est importante pour l'analyse du réseau, puisqu'elle peut indiquer des sous-réseaux distincts ou des communautés isolées. Cette non-connectivité peut également être un facteur influencant les performances de l'algorithme de propagation d'étiquettes, car certaines parties du graphe peut évoluer indépendamment les unes des autres. \n",
    "\n",
    "Enfin, le nombre de composants connectés correspond à la fragmentation du réseau et signifie que le réseau comporte 2 sous-réseaux distincts de personnages qui peuvent former des communautés indépendantes. Comme l'algorithme LPam+ doit être capable de gérer plusieurs composants et de maximiser la modularité indépendammet dans chaque composant, il serait interessant d'analyser séparément chaque composant pour comprendre la dynamique interne de chaque sous-réseau. En effet, des composants connectés peuvent suggérer des sous-réseaux significatifs comme des groupes de personnages dans les films différents.\n",
    "\n",
    "L'algorithme fonctionne-t-il bien ?\n",
    "\n",
    "En exécutant l'algorithme LPAm+ sur l'ensemble de données de caractères MCU complet, la modularité obtenue est de 0.437. Une modularité élevée indique que l'algorithme a réussi à détecter des communautés bien définies avec des connexions denses à l'intérieur des communautés et dispersées entre les communautés. Le RI est de 0.333, ce qui est relativement bas. Cela signifie que, bien que l'algorithme ait trouvé des communautés avec une bonne modularité, il ne correspond pas parfaitement aux affiliations réelles des personnages. Le nombre élevé de FN (37 443) et FP (2345) montre que beaucoup de paires de personnages ne sont pas correctement classifiées dans les mêmes communautés ou dans des communautés différentes par rapport aux affiliations réelles. Ainsi, l'algorithme fonctionne bien en termes de maximisation de la modularité, mais il pourrait être amélioré pour mieux correspondre aux affiliations réelles des personnages, comme le montre le Rand Index.\n",
    "\n",
    "Le manque de nombreuses communautés affecte-t-il les performances algorithmiques ?\n",
    "\n",
    "Oui, le manque de nombreuses communautés peut affecter négativement les performances de l'algorithmes. Si certaines sont petites ou faiblement connectées, elles peuvent ne pas être détectées correctement, ce qui entraîne une sous-évaluation des relations communautaires réelles. De plus, en présence de communautés manquantes l'algorithme LPAm+ peut parfois fusionner des communautés qui ne devraient pas l'être, en particulier si les connexions entre les personnages sont faibles ou instables, ce qui peut réduire la précision de la détection des communautés.\n",
    "\n",
    "Le fait de connecter tous les personnages d'un film peut créer des communautés plus grandes et bien connectées, ce qui augmente la modularité, mais peut ne pas refléter les affiliations réelles si les personnages ne sont pas aussi étroitement liés en dehors du contexte du film. En fait, cela peut réduire la granularité des communautés détectées, car des groupes de personnages peuvent être regroupés en une seule grande communauté, même si leurs affiliations réelles sont plus diversifiées.\n",
    "\n",
    "Expliquez pourquoi vous avez obtenu ces résultats en analysant les communautés dans l'ensemble de données. Quelles particularités offrent de meilleurs résultats ou entravent l'algorithme ?\n",
    "\n",
    "Un réseau dense avec de nombreuses arêtes favorise la formation de grandes communautés bien définies, ce qui augmente la modularité. Ensuite, en termes de connectivité dans l'ensemble de données, la présence de composants connectés explique et influence la détection des communautés. Les sous-réseaux distincts peuvent évoluer indépendamment, ce qui peut améliorer ou détériorer la détection des communautés selon la structure des sous-réseaux. De plus, LPAm et LPAm+ reposent sur la propagation des étiquettes, ce qui fonctionne bien dans les réseaux denses mais peut échouer dans les réseaux dispersés ou très fragmentés. Enfin, LPAm+ améliore la modularité en fusionnant les communautés, mais cette fusion peut parfois être inappropriée si les critères de fusion ne reflètent pas bien les affiliations réelles.\n"
   ]
  },
  {
   "cell_type": "markdown",
   "metadata": {
    "id": "YDxuPJq2DzDW"
   },
   "source": [
    "# 2. Social network analysis (6 points)\n",
    "\n",
    "Une autre analyse intéressante à faire avec un réseau social est de trouver les personnes influentes du réseau, c'est-à-dire les personnes autour desquelles les personnes du réseau se regroupent.\n",
    "\n",
    "Il y a des mesures qui permettent de connaître ces personnes : les mesures de centralité. **Vous devez implémenter ces métriques vous-mêmes. N'utilisez pas l'implémentation `networkx` pour le tp.** Utilisez le dataset Marvel complet. \n",
    "\n",
    "---\n",
    "\n",
    "Another interesting analysis to do with a social network is to find the influential people in the network, ie the people around whom the people in the network gather.\n",
    "\n",
    "There are measures which make it possible to know these people: the centrality measures. **You must implement those metrics yourselves. Do not use `networkx` implementation for the  tp.** Use the whole Marvel dataset. \n",
    "\n"
   ]
  },
  {
   "cell_type": "markdown",
   "metadata": {
    "id": "15zJrLivDzDW"
   },
   "source": [
    "## 2.1 Centralité de degré / Degree centrality (2 points)\n",
    "\n",
    "Une première mesure simple pour trouver l'importance d'un sommet dans un réseau est la centralité de degré. Elle se calcule selon la formule suivante $$C_{D}(i) = \\frac{degree(i)}{n-1}$$\n",
    "\n",
    "- i: un sommet dans le réseau\n",
    "- n: le nombre de sommets\n",
    "- degree: le nombre d'arêtes attachées au sommet\n",
    "\n",
    "#### Implémentation\n",
    "1. Implémenter la fonction `calculate_degree_centrality`. Cette fonction calcule la centralité de degré pour tous les sommets du réseau et ajoute cette mesure à chaque sommet.\n",
    "\n",
    "2. Affichez les 10 centralités les plus élevées pour l'ensemble de données MCU. À titre indicatif, la centralité la plus élevée devrait être de 0.48.\n",
    "\n",
    "---\n",
    "\n",
    "A first simple measure to find the importance of a node in a network is the degree centrality. It is calculated $$C_{D}(i) = \\frac{degree(i)}{n-1}$$\n",
    "\n",
    "- i: a node in the network\n",
    "- n: the number of nodes\n",
    "- degree: the number of edges attached to the node\n",
    "\n",
    "#### Implementation\n",
    "1. Implement the function `calculate_degree_centrality`. This function calculates degree centrality for all nodes in the network and adds this measurement to each node.\n",
    "2. Show the highest 10 centralities for the MCU dataset. As a hint, the highest centrality should be 0.48."
   ]
  },
  {
   "cell_type": "code",
   "execution_count": 12,
   "metadata": {
    "id": "iSlHIvjoDzDX"
   },
   "outputs": [
    {
     "name": "stdout",
     "output_type": "stream",
     "text": [
      "Node 41: Degree Centrality = 0.484\n",
      "Node 139: Degree Centrality = 0.426\n",
      "Node 32: Degree Centrality = 0.417\n",
      "Node 226: Degree Centrality = 0.412\n",
      "Node 332: Degree Centrality = 0.374\n",
      "Node 134: Degree Centrality = 0.371\n",
      "Node 120: Degree Centrality = 0.368\n",
      "Node 286: Degree Centrality = 0.359\n",
      "Node 321: Degree Centrality = 0.359\n",
      "Node 77: Degree Centrality = 0.354\n"
     ]
    }
   ],
   "source": [
    "def calculate_degree_centrality(social_network):\n",
    "    n = social_network.number_of_nodes()\n",
    "    for node in social_network.nodes:\n",
    "        degree = social_network.degree(node)\n",
    "        social_network.nodes[node]['degree_centrality'] = degree / (n - 1)\n",
    "\n",
    "def display_top_degree_centralities(social_network, top_n=10):\n",
    "    degree_centralities = [(node, data['degree_centrality']) for node, data in social_network.nodes(data=True)]\n",
    "    degree_centralities.sort(key=lambda x: x[1], reverse=True)\n",
    "    top_centralities = degree_centralities[:top_n]\n",
    "    \n",
    "    for node, centrality in top_centralities:\n",
    "        print(f\"Node {node}: Degree Centrality = {centrality:.3f}\")\n",
    "\n",
    "# Load the dataset and calculate degree centralities\n",
    "social_network = load_unweighted_network(\"data/tp-marvel-dataset.csv\")\n",
    "calculate_degree_centrality(social_network)\n",
    "display_top_degree_centralities(social_network)"
   ]
  },
  {
   "cell_type": "markdown",
   "metadata": {
    "id": "YATDDlcmDzDX"
   },
   "source": [
    "## 2.2 Centralité de proximité / Closeness centrality (2 points)\n",
    "\n",
    "Une autre mesure simple pour trouver l'importance d'un sommet dans un réseau est la centralité de proximité. Elle se calcule avec la formule suivante $$C_{P}(i) = \\frac{1}{AvDist(i)}$$\n",
    "\n",
    "- i: un sommet dans le réseau\n",
    "- AvDist: la moyenne de toutes les distances les plus courtes pour atteindre chaque sommet à partir du sommet i\n",
    "\n",
    "#### Implémentation\n",
    "1. Implémenter la fonction `calculate_closeness_centrality`. Cette fonction calcule la centralité de proximité pour tous les sommets du réseau et ajoute cette mesure à chaque sommet. Considérer chaque arête comme une distance de 1.\n",
    "\n",
    "**NB**: Utiliser la fonction `shortest_path()` du module Networkx pour trouver le chemin le plus court entre des sommets\n",
    "\n",
    "2. L'ensemble de données a deux composants connectés. Utilisez la fonction `nx.connected_components` pour obtenir chacun d'eux. Calculez la centralité de proximité pour chaque composante et expliquez vos résultats.\n",
    "\n",
    "3. Affichez les 10 centralités les plus élevées pour le plus grand composant connexe. À titre indicatif, la centralité la plus élevée devrait être de 0.67.\n",
    "\n",
    "---\n",
    "\n",
    "Another simple measure for finding the importance of a node in a network is closeness centrality. It is calculated $$C_{P}(i) = \\frac{1}{AvDist(i)}$$\n",
    "\n",
    "- i: a node in the network\n",
    "- AvDist: the average of all shortest distances to reach each vertex from vertex i\n",
    "\n",
    "#### Implementation\n",
    "1. Implement the function `calculate_closeness_centrality`. This function calculates closeness centrality for all nodes in the network and adds this measurement to each node. Consider each edge as a distance of 1.\n",
    "\n",
    "**NB**: Use the fucntion `shortest_path()` from Networkx to find the shortest path between two nodes.\n",
    "\n",
    "2. The dataset has two connected components. Use the function `nx.connected_components` to get each one of them. Calculate the closeness centrality for each component, and explain your results. \n",
    "\n",
    "3. Show the highest 10 centralities for the largest connected component. As a hint, the highest centrality should be 0.67."
   ]
  },
  {
   "cell_type": "code",
   "execution_count": 13,
   "metadata": {
    "id": "tFOOFuovDzDX"
   },
   "outputs": [
    {
     "name": "stdout",
     "output_type": "stream",
     "text": [
      "Rank 1: Node 41, Closeness Centrality: 0.673\n",
      "Rank 2: Node 139, Closeness Centrality: 0.646\n",
      "Rank 3: Node 32, Closeness Centrality: 0.643\n",
      "Rank 4: Node 226, Closeness Centrality: 0.640\n",
      "Rank 5: Node 332, Closeness Centrality: 0.624\n",
      "Rank 6: Node 134, Closeness Centrality: 0.623\n",
      "Rank 7: Node 120, Closeness Centrality: 0.622\n",
      "Rank 8: Node 286, Closeness Centrality: 0.618\n",
      "Rank 9: Node 321, Closeness Centrality: 0.618\n",
      "Rank 10: Node 77, Closeness Centrality: 0.616\n"
     ]
    }
   ],
   "source": [
    "import networkx as nx\n",
    "\n",
    "def calculate_closeness_centrality(social_network):\n",
    "    closeness_centrality = {}\n",
    "    \n",
    "    for node in social_network.nodes:\n",
    "        shortest_paths = nx.shortest_path_length(social_network, source=node)\n",
    "        total_distance = sum(shortest_paths.values())\n",
    "        \n",
    "        if total_distance > 0:\n",
    "            centrality = len(shortest_paths) / total_distance\n",
    "        else:\n",
    "            centrality = 0\n",
    "        \n",
    "        closeness_centrality[node] = centrality\n",
    "        social_network.nodes[node]['closeness_centrality'] = centrality\n",
    "        \n",
    "    return closeness_centrality\n",
    "\n",
    "def print_top_closeness_centralities(closeness_centrality, top_n=10):\n",
    "    sorted_centralities = sorted(closeness_centrality.items(), key=lambda item: item[1], reverse=True)\n",
    "    for i, (node, centrality) in enumerate(sorted_centralities[:top_n]):\n",
    "        print(f\"Rank {i+1}: Node {node}, Closeness Centrality: {centrality:.3f}\")\n",
    "\n",
    "social_network = load_unweighted_network(\"data/tp-marvel-dataset.csv\")\n",
    "\n",
    "components = list(nx.connected_components(social_network))\n",
    "closeness_centrality = {}\n",
    "for component in components:\n",
    "    subgraph = social_network.subgraph(component)\n",
    "    closeness_centrality.update(calculate_closeness_centrality(subgraph))\n",
    "\n",
    "largest_component = max(components, key=len)\n",
    "largest_subgraph = social_network.subgraph(largest_component)\n",
    "\n",
    "largest_closeness_centrality = calculate_closeness_centrality(largest_subgraph)\n",
    "\n",
    "print_top_closeness_centralities(largest_closeness_centrality)\n"
   ]
  },
  {
   "cell_type": "markdown",
   "metadata": {
    "id": "kIyAQVj4DzDX"
   },
   "source": [
    "## 2.3 Centralité d'intermédiarité / Betweeness centrality (2 points)\n",
    "\n",
    "Une dernière mesure simple pour trouver l'importance d'un sommet dans un réseau est la centralité d'intermédiarité. Elle se calcule avec cette formule $$C_{I}(i) = \\frac{\\sum_{j<k}f_{jk}(i)}{\\binom{n-1}{2}}$$\n",
    "\n",
    "- n: le nombre de sommets dans le réseau\n",
    "- i: un sommet dans le réseau\n",
    "- j,k: deux sommets dans le réseau excluant i\n",
    "- $f_{jk}(i)$: la proportion des chemin le plus court partant du sommet j vers un sommet k (> j) passant par le sommet i \n",
    "\n",
    "#### Implémentation\n",
    "1. Implémenter la fonction `calculate_betweenness_centrality`. Cette fonction calcule la centralité d'intermédiarité pour tous les sommets du réseau et ajoute cette mesure à chaque sommet.\n",
    "\n",
    "**NB**: Utilisez les fonctions `all_shortest_paths()` ou `shortest_path()` de Networkx pour calculer des chemins simples les plus courts du graphe.\n",
    "\n",
    "2. L'ensemble de données a deux composants connectés. Utilisez la fonction `nx.connected_components` pour obtenir chacun d'eux. Calculez la centralité de proximité pour chaque composante et expliquez vos résultats.\n",
    "\n",
    "3. Affichez les 10 centralités les plus élevées pour l'ensemble de données MCU. À titre indicatif, la centralité la plus élevée devrait être de 0.073.\n",
    "\n",
    "---\n",
    "\n",
    "A final simple measure to find the importance of a node in a network is the betweeness centrality. It is calculated $$C_{I}(i) = \\frac{\\sum_{j<k}f_{jk}(i)}{\\binom{n-1}{2}}$$\n",
    "\n",
    "- n: the number of nodes in the network\n",
    "- i: a node in the network\n",
    "- j,k: two nodes in the network excluding i\n",
    "- $f_{jk}(i)$: the proportion of shortest paths from vertex j to vertex k (> j) passing through node i\n",
    "\n",
    "#### Implementation\n",
    "1. Implement the function `calculate_betweenness_centrality`.This function calculates the betweenness centrality for all the nodes of the network and adds this measurement to each node.\n",
    "\n",
    "**NB**: Use the functions `all_shortest_paths()` or `shortest_path()` from Networkx to compute the shortest simple paths in the graph.\n",
    "\n",
    "2. The dataset has two connected components. Use the function `nx.connected_components` to get each one of them. Calculate the closeness centrality for each component, and explain your results. \n",
    "\n",
    "3. Show the highest 10 centralities for the MCU dataset. As a hint, the highest centrality should be 0.073."
   ]
  },
  {
   "cell_type": "code",
   "execution_count": 26,
   "metadata": {
    "id": "LEWZX5kLDzDY"
   },
   "outputs": [],
   "source": [
    "import networkx as nx\n",
    "from tqdm import tqdm\n",
    "\n",
    "def calculate_betweenness_centrality(social_network, progress_bar):\n",
    "    betweenness_centrality = {}\n",
    "\n",
    "    for node in social_network.nodes():\n",
    "        betweenness_centrality[node] = 0\n",
    "\n",
    "    components = list(nx.connected_components(social_network))\n",
    "\n",
    "    for component in components:\n",
    "        subgraph = social_network.subgraph(component)\n",
    "        n = len(subgraph.nodes())\n",
    "        if n > 2:\n",
    "            component_centrality = nx.betweenness_centrality(subgraph)\n",
    "\n",
    "            for node, centrality in component_centrality.items():\n",
    "                betweenness_centrality[node] += centrality\n",
    "            progress_bar.update(len(component) * (len(component) - 1) // 2)\n",
    "\n",
    "    return betweenness_centrality"
   ]
  },
  {
   "cell_type": "code",
   "execution_count": 27,
   "metadata": {},
   "outputs": [],
   "source": [
    "def print_top_10_centrality(betweenness):\n",
    "    top_10 = sorted(betweenness.items(), key=lambda x: x[1], reverse=True)[:10]\n",
    "    for node, centrality in top_10:\n",
    "        print(f\"Node {node}: Betweenness Centrality = {centrality:5f}\")"
   ]
  },
  {
   "cell_type": "code",
   "execution_count": 29,
   "metadata": {},
   "outputs": [
    {
     "name": "stderr",
     "output_type": "stream",
     "text": [
      "Calculating Betweenness: 100%|██████████| 54092/54092 [00:01<00:00, 29240.59it/s]"
     ]
    },
    {
     "name": "stdout",
     "output_type": "stream",
     "text": [
      "TOP 10 BETWEENNESS CENTRALITY :\n",
      "\n",
      "Node 41: Betweenness Centrality = 0.073788\n",
      "Node 32: Betweenness Centrality = 0.059036\n",
      "Node 332: Betweenness Centrality = 0.049504\n",
      "Node 139: Betweenness Centrality = 0.040054\n",
      "Node 134: Betweenness Centrality = 0.038428\n",
      "Node 286: Betweenness Centrality = 0.037592\n",
      "Node 226: Betweenness Centrality = 0.036887\n",
      "Node 42: Betweenness Centrality = 0.033559\n",
      "Node 183: Betweenness Centrality = 0.031886\n",
      "Node 43: Betweenness Centrality = 0.031499\n",
      "\n",
      "\n",
      "BETWEENNESS CENTRALITY :\n",
      "\n",
      "{0: 0.0, 1: 0.0008878973289984503, 2: 0.0, 3: 0.0, 4: 0.0, 5: 0.0, 6: 0.0, 7: 0.0, 8: 0.0, 9: 0.0016297806528856892, 10: 0.0, 11: 0.007221566199864948, 12: 0.0, 13: 0.0, 14: 0.023495478672239677, 15: 0.0, 16: 0.0, 17: 0.0007175312012593667, 18: 0.0, 19: 0.0, 20: 0.0, 21: 0.0, 22: 0.011302570911383425, 23: 0.0, 24: 0.0, 25: 0.0, 26: 0.0015465283484199363, 27: 0.0, 28: 0.0, 29: 0.0, 30: 0.0, 31: 0.01608350046439109, 32: 0.05903614581775753, 33: 0.0, 34: 0.0, 35: 0.0, 36: 0.0, 37: 0.0, 38: 0.002538203724971352, 39: 0.0, 40: 0.0, 41: 0.07378780938778139, 42: 0.03355909317676032, 43: 0.03149906978032233, 44: 0.0, 45: 0.019075338666998364, 46: 0.0, 47: 0.0, 48: 0.0, 49: 0.0, 50: 0.0, 51: 0.0, 52: 8.187208129541283e-05, 53: 0.0005954672444533369, 54: 0.004118636621196371, 55: 0.0, 56: 0.0009536900033005559, 57: 0.00037009967882596656, 58: 0.00013585207088801597, 59: 0.00035722233143471065, 60: 0.0, 61: 0.00013585207088801597, 62: 0.0013753877229822277, 63: 0.0, 64: 0.0, 65: 0.0011011935131073685, 66: 0.0, 67: 0.0, 68: 0.0004990007319658461, 69: 0.0, 70: 0.0, 71: 0.0, 72: 0.0, 73: 0.0, 74: 0.0, 75: 0.0, 76: 0.0, 77: 0.02199403829303601, 78: 0.0, 79: 0.0, 80: 0.0003595927474526628, 81: 0.00013585207088801597, 82: 0.0, 83: 0.0, 84: 0.0, 85: 0.0, 86: 0.0, 87: 0.0, 88: 0.0, 89: 0.0035058035110445036, 90: 0.0015465283484199363, 91: 0.004292214762496894, 92: 0.009935490412867337, 93: 0.00290733542823372, 94: 0.0024433626735603326, 95: 0.0009536900033005559, 96: 0.007321141809228218, 97: 0.0, 98: 0.0, 99: 0.01606483868972207, 100: 0.0, 101: 0.0, 102: 0.0, 103: 0.0, 104: 0.0, 105: 0.0, 106: 0.0, 107: 0.0, 108: 0.0, 109: 0.0, 110: 0.0, 111: 0.00035722233143471065, 112: 0.0, 113: 0.0003230184426743255, 114: 0.02199403829303601, 115: 0.0, 116: 0.0, 117: 0.0005954672444533369, 118: 0.016640463102845917, 119: 0.00518232816957298, 120: 0.028155929467053406, 121: 0.016031230379197802, 122: 0.000612191707572824, 123: 0.008699113670641847, 124: 0.0, 125: 0.0, 126: 0.0, 127: 0.0, 128: 0.0, 129: 0.0003522586098291083, 130: 0.0024433626735603326, 131: 0.0, 132: 0.019156363279674335, 133: 0.00035722233143471065, 134: 0.038427873448106754, 135: 0.0, 136: 0.0, 137: 0.0, 138: 0.0, 139: 0.04005442890737929, 140: 0.0, 141: 0.0003595927474526628, 142: 0.003663982413929898, 143: 0.0016297806528856892, 144: 0.0, 145: 0.0, 146: 0.0, 147: 0.0, 148: 0.016640463102845917, 149: 0.0004458340506574764, 150: 0.002982674562901767, 151: 0.0, 152: 0.0, 153: 0.0004990007319658461, 154: 0.00046234473924786524, 155: 0.0, 156: 0.0, 157: 0.0003595927474526628, 158: 0.0, 159: 0.0, 160: 0.0, 161: 0.0, 162: 0.0005954672444533369, 163: 0.0, 164: 0.0, 165: 0.0003230184426743255, 166: 0.0, 167: 0.002661325734674028, 168: 0.005152583225634516, 169: 0.019956425424824422, 170: 0.0, 171: 0.0, 172: 0.0, 173: 0.0004990007319658461, 174: 0.0, 175: 0.00037009967882596656, 176: 0.0, 177: 0.0, 178: 0.00037009967882596656, 179: 0.0, 180: 0.0, 181: 0.0, 182: 0.0, 183: 0.03188563544744631, 184: 0.0, 185: 0.0, 186: 0.0004990007319658461, 187: 0.015103489703718017, 188: 0.0, 189: 0.0004990007319658461, 190: 0.0, 191: 0.0, 192: 0.0, 193: 0.017839523719891687, 194: 0.0, 195: 0.01114245763444158, 196: 0.0, 197: 0.0, 198: 0.0, 199: 0.0, 200: 0.01668370292341693, 201: 0.0, 202: 0.00035722233143471065, 203: 0.0015465283484199363, 204: 0.007321141809228218, 205: 0.0, 206: 0.0, 207: 0.0, 208: 0.0, 209: 0.0, 210: 0.0, 211: 0.0, 212: 0.0, 213: 0.0, 214: 0.0, 215: 0.0, 216: 0.0, 217: 0.0003595927474526628, 218: 0.0, 219: 0.0003230184426743255, 220: 0.0, 221: 0.0, 222: 0.0, 223: 0.0, 224: 0.02199403829303601, 225: 0.01523137769314056, 226: 0.036886817945287774, 227: 0.0005954672444533369, 228: 0.00294344840523623, 229: 0.0, 230: 0.00027095959986276274, 231: 0.0, 232: 0.0024433626735603326, 233: 0.015103489703718017, 234: 0.0, 235: 0.0, 236: 0.0, 237: 0.004844315894001041, 238: 0.0, 239: 0.0, 240: 0.0, 241: 0.00013585207088801597, 242: 0.0, 243: 0.0, 244: 0.014029876297842135, 245: 0.0, 246: 0.0, 247: 0.0, 248: 0.0, 249: 0.005745613018051335, 250: 0.0, 251: 0.0, 252: 0.0, 253: 0.0, 254: 0.0, 255: 0.0, 256: 0.0, 257: 0.02199403829303601, 258: 0.0, 259: 0.004237784818019986, 260: 0.002661325734674028, 261: 0.0, 262: 0.004118636621196371, 263: 0.0, 264: 0.0, 265: 0.0, 266: 0.01834600334601472, 267: 0.0, 268: 0.0, 269: 0.0, 270: 0.0, 271: 0.0, 272: 0.0, 273: 0.0, 274: 0.004853342887081142, 275: 0.0011011935131073685, 276: 0.0, 277: 0.0, 278: 0.0, 279: 0.0, 280: 0.0013092488172916886, 281: 0.017645825246455613, 282: 0.0, 283: 0.0, 284: 0.02199403829303601, 285: 0.0, 286: 0.03759161502339841, 287: 0.0005966523847161385, 288: 0.0, 289: 0.0, 290: 0.0, 291: 0.0012189469486276192, 292: 0.0, 293: 0.0013092488172916886, 294: 0.0, 295: 0.0, 296: 0.018537409675838768, 297: 0.010000938739513042, 298: 0.0, 299: 0.002589857693223371, 300: 0.0014568304211629698, 301: 0.0, 302: 0.02619405341414022, 303: 0.0, 304: 0.0, 305: 0.0, 306: 0.004118636621196371, 307: 0.0, 308: 0.0, 309: 0.0, 310: 0.002083969404494245, 311: 0.0, 312: 0.0, 313: 0.0031811072217906265, 314: 0.002095132572950055, 315: 0.0, 316: 0.0, 317: 0.005152583225634516, 318: 0.0, 319: 0.0, 320: 0.0, 321: 0.023398280491638064, 322: 0.0008650566753665625, 323: 0.0024433626735603326, 324: 0.0, 325: 0.0, 326: 0.0, 327: 0.018548448021303, 328: 0.019075338666998364, 329: 0.00027095959986276274, 330: 0.025646493686018006, 331: 0.0, 332: 0.049504485472529294, 333: 0.0, 334: 0.0, 335: 0.0, 336: 0.0, 337: 0.0, 338: 0.00294344840523623, 339: 0.0, 340: 0.0, 341: 0.0, 342: 0.0, 343: 0.00035722233143471065, 344: 0.0, 345: 0.0}\n"
     ]
    },
    {
     "name": "stderr",
     "output_type": "stream",
     "text": [
      "\n"
     ]
    }
   ],
   "source": [
    "social_network = load_unweighted_network(\"data/tp-marvel-dataset.csv\")\n",
    "\n",
    "#j'ai juste besoin d'une seule barre pour voir la progression du calcul\n",
    "total_iterations = sum(len(c) * (len(c) - 1) // 2 for c in nx.connected_components(social_network))\n",
    "progress_bar = tqdm(total=total_iterations, desc=\"Calculating Betweenness\")\n",
    "\n",
    "betweenness = calculate_betweenness_centrality(social_network, progress_bar)\n",
    "\n",
    "progress_bar.close()\n",
    "\n",
    "print('TOP 10 BETWEENNESS CENTRALITY :\\n')\n",
    "print_top_10_centrality(betweenness)\n",
    "print('\\n')\n",
    "print('BETWEENNESS CENTRALITY :\\n')\n",
    "print(betweenness)"
   ]
  },
  {
   "cell_type": "markdown",
   "metadata": {
    "id": "CvzPr6TEDzDY"
   },
   "source": [
    "# 3. Méchants MCU/MCU Villains (4 points)\n",
    "\n",
    "L'univers cinématographique Marvel est connu pour avoir des méchants très notables. Nous vous demandons de construire un modèle pour suivre ces méchants. Vos fonctionnalités doivent être chaque film dans lequel les personnages ont été et les mesures de centralité calculées auparavant.\n",
    "\n",
    "---\n",
    "\n",
    "The Marvel Cinematic Universe is known to have very notable villains. We ask you to build a model to track those villains. Your features should be each movie that the characters have been in, and the centrality measures calculated before. "
   ]
  },
  {
   "cell_type": "markdown",
   "metadata": {
    "id": "7JyTQV7pDzDY"
   },
   "source": [
    "## 3.1. Création du ensemble de données/Creating the dataset (2 points)\n",
    "\n",
    "À partir de la liste des films fournis, créez des features à partir de la colonne `Movie` afin d'entraîner votre jeu de données, et fusionner ces valeurs avec les centralités, pour chaque personnage. Utilisez la méthode de votre choix dans ce processus.\n",
    "\n",
    "Les centralités étant très variables, mieux vaut normaliser chaque mesure. Sélectionnez une méthode de votre choix pour ramener toutes les mesures à une seule échelle.\n",
    "\n",
    "Utilisez le fichier .CSV *`tp-marvel-villains.csv`* comme principale source d'indication si un personnage est un méchant. Fusionnez ce fichier dans l'ensemble de données global en tant qu'étiquette Mechant (la feature `y`).\n",
    "\n",
    "---\n",
    "\n",
    "From the list of movies given, create features from the column `Movie` so as to train your dataset, and merge these values ​​with the centralities, for each character.. Use any method of your choice in this process.\n",
    "\n",
    "As the centralities vary greatly, it is better to normalize each measure. Select a method of your choice to bring all of the measures to a single scale.  \n",
    "\n",
    "Use the .CSV file *`tp-marvel-villains.csv`* as the main source of indication whether a character is a villain. Merge this file into the overall dataset as the Villain label (the `y` feature)."
   ]
  },
  {
   "cell_type": "code",
   "execution_count": 1,
   "metadata": {
    "id": "cc1f-0xWDzDY"
   },
   "outputs": [],
   "source": [
    "import pandas as pd\n",
    "\n",
    "villains_df = pd.read_csv(\"data/tp-marvel-villains.csv\")\n",
    "\n",
    "heroes_df = pd.read_csv(\"data/tp-marvel-dataset.csv\", delimiter=';')\n"
   ]
  },
  {
   "cell_type": "code",
   "execution_count": 2,
   "metadata": {},
   "outputs": [],
   "source": [
    "centralities = {node: {'degree': 0.484, 'closeness': 0.673, 'betweenness': 0.073788} for node in heroes_df['Hero_name'].unique()}\n",
    "centralities_df = pd.DataFrame.from_dict(centralities, orient='index').reset_index().rename(columns={'index': 'Hero_name'})\n",
    "\n",
    "heroes_df = heroes_df.merge(centralities_df, on='Hero_name', how='left')\n"
   ]
  },
  {
   "cell_type": "code",
   "execution_count": 3,
   "metadata": {},
   "outputs": [],
   "source": [
    "movies = heroes_df['Movie'].unique()\n",
    "\n",
    "for movie in movies:\n",
    "    heroes_df[movie] = heroes_df['Movie'].apply(lambda x: 1 if x == movie else 0)\n"
   ]
  },
  {
   "cell_type": "code",
   "execution_count": 4,
   "metadata": {},
   "outputs": [],
   "source": [
    "from sklearn.preprocessing import MinMaxScaler\n",
    "\n",
    "scaler = MinMaxScaler()\n",
    "heroes_df[['degree', 'closeness', 'betweenness']] = scaler.fit_transform(heroes_df[['degree', 'closeness', 'betweenness']])\n"
   ]
  },
  {
   "cell_type": "code",
   "execution_count": 5,
   "metadata": {},
   "outputs": [],
   "source": [
    "villains_df['is_villain'] = 1\n",
    "heroes_df = heroes_df.merge(villains_df[['Villain', 'is_villain']], left_on='Hero_name', right_on='Villain', how='left')\n",
    "heroes_df['is_villain'] = heroes_df['is_villain'].fillna(0)\n"
   ]
  },
  {
   "cell_type": "code",
   "execution_count": 6,
   "metadata": {},
   "outputs": [],
   "source": [
    "heroes_df.to_csv(\"data/marvel_data_with_features.csv\", index=False)\n"
   ]
  },
  {
   "cell_type": "markdown",
   "metadata": {
    "id": "6jRa77VuDzDZ"
   },
   "source": [
    "## 3.2. Construire le modèle/Building the model (2 points)\n",
    "\n",
    "\n",
    "Maintenant, utilisez votre créativité pour construire un modèle pour prédire les méchants dans l'ensemble de données, à partir des fonctionnalités que vous avez créées. Voici quelques points pour vous guider :\n",
    "\n",
    "1. Des démonstrations graphiques seront appréciées. Ne vous contentez pas de prédire vos données, affichez vos valeurs de manière agréable.\n",
    "2. Expliquez vos résultats. L'ajout des fonctionnalités de centralité aide-t-il votre modèle d'une manière ou d'une autre? Les films aident-ils votre modèle? Si vous ne deviez garder qu'un seul des deux sous-ensembles, lequel garderiez-vous?\n",
    "\n",
    "---\n",
    "\n",
    "Now, use your creativity to build a model to predict the villains in the dataset, from the features that you have created. Here are some points to guide you:\n",
    "\n",
    "1. Graphical demonstrations will be appreciated. Do not just predict your data, show your values in a pleasant way. \n",
    "2. Explain your results. Does the addition of the centrality features help your model somehow? Do the movies help your model? If you had to keep just one of the two subsets, which one would you keep?"
   ]
  },
  {
   "cell_type": "code",
   "execution_count": 7,
   "metadata": {
    "id": "SH0RPEurDzDZ"
   },
   "outputs": [],
   "source": [
    "import pandas as pd\n",
    "from sklearn.model_selection import train_test_split\n",
    "\n",
    "heroes_df = pd.read_csv('data/marvel_data_with_features.csv')\n",
    "\n",
    "X = heroes_df.drop(['Hero_id', 'Hero_name', 'Movie', 'Affiliation', 'Villain', 'is_villain'], axis=1)\n",
    "y = heroes_df['is_villain']\n",
    "\n",
    "X_train, X_test, y_train, y_test = train_test_split(X, y, test_size=0.25, random_state=42)\n"
   ]
  },
  {
   "cell_type": "code",
   "execution_count": 8,
   "metadata": {},
   "outputs": [
    {
     "data": {
      "text/html": [
       "<style>#sk-container-id-1 {\n",
       "  /* Definition of color scheme common for light and dark mode */\n",
       "  --sklearn-color-text: black;\n",
       "  --sklearn-color-line: gray;\n",
       "  /* Definition of color scheme for unfitted estimators */\n",
       "  --sklearn-color-unfitted-level-0: #fff5e6;\n",
       "  --sklearn-color-unfitted-level-1: #f6e4d2;\n",
       "  --sklearn-color-unfitted-level-2: #ffe0b3;\n",
       "  --sklearn-color-unfitted-level-3: chocolate;\n",
       "  /* Definition of color scheme for fitted estimators */\n",
       "  --sklearn-color-fitted-level-0: #f0f8ff;\n",
       "  --sklearn-color-fitted-level-1: #d4ebff;\n",
       "  --sklearn-color-fitted-level-2: #b3dbfd;\n",
       "  --sklearn-color-fitted-level-3: cornflowerblue;\n",
       "\n",
       "  /* Specific color for light theme */\n",
       "  --sklearn-color-text-on-default-background: var(--sg-text-color, var(--theme-code-foreground, var(--jp-content-font-color1, black)));\n",
       "  --sklearn-color-background: var(--sg-background-color, var(--theme-background, var(--jp-layout-color0, white)));\n",
       "  --sklearn-color-border-box: var(--sg-text-color, var(--theme-code-foreground, var(--jp-content-font-color1, black)));\n",
       "  --sklearn-color-icon: #696969;\n",
       "\n",
       "  @media (prefers-color-scheme: dark) {\n",
       "    /* Redefinition of color scheme for dark theme */\n",
       "    --sklearn-color-text-on-default-background: var(--sg-text-color, var(--theme-code-foreground, var(--jp-content-font-color1, white)));\n",
       "    --sklearn-color-background: var(--sg-background-color, var(--theme-background, var(--jp-layout-color0, #111)));\n",
       "    --sklearn-color-border-box: var(--sg-text-color, var(--theme-code-foreground, var(--jp-content-font-color1, white)));\n",
       "    --sklearn-color-icon: #878787;\n",
       "  }\n",
       "}\n",
       "\n",
       "#sk-container-id-1 {\n",
       "  color: var(--sklearn-color-text);\n",
       "}\n",
       "\n",
       "#sk-container-id-1 pre {\n",
       "  padding: 0;\n",
       "}\n",
       "\n",
       "#sk-container-id-1 input.sk-hidden--visually {\n",
       "  border: 0;\n",
       "  clip: rect(1px 1px 1px 1px);\n",
       "  clip: rect(1px, 1px, 1px, 1px);\n",
       "  height: 1px;\n",
       "  margin: -1px;\n",
       "  overflow: hidden;\n",
       "  padding: 0;\n",
       "  position: absolute;\n",
       "  width: 1px;\n",
       "}\n",
       "\n",
       "#sk-container-id-1 div.sk-dashed-wrapped {\n",
       "  border: 1px dashed var(--sklearn-color-line);\n",
       "  margin: 0 0.4em 0.5em 0.4em;\n",
       "  box-sizing: border-box;\n",
       "  padding-bottom: 0.4em;\n",
       "  background-color: var(--sklearn-color-background);\n",
       "}\n",
       "\n",
       "#sk-container-id-1 div.sk-container {\n",
       "  /* jupyter's `normalize.less` sets `[hidden] { display: none; }`\n",
       "     but bootstrap.min.css set `[hidden] { display: none !important; }`\n",
       "     so we also need the `!important` here to be able to override the\n",
       "     default hidden behavior on the sphinx rendered scikit-learn.org.\n",
       "     See: https://github.com/scikit-learn/scikit-learn/issues/21755 */\n",
       "  display: inline-block !important;\n",
       "  position: relative;\n",
       "}\n",
       "\n",
       "#sk-container-id-1 div.sk-text-repr-fallback {\n",
       "  display: none;\n",
       "}\n",
       "\n",
       "div.sk-parallel-item,\n",
       "div.sk-serial,\n",
       "div.sk-item {\n",
       "  /* draw centered vertical line to link estimators */\n",
       "  background-image: linear-gradient(var(--sklearn-color-text-on-default-background), var(--sklearn-color-text-on-default-background));\n",
       "  background-size: 2px 100%;\n",
       "  background-repeat: no-repeat;\n",
       "  background-position: center center;\n",
       "}\n",
       "\n",
       "/* Parallel-specific style estimator block */\n",
       "\n",
       "#sk-container-id-1 div.sk-parallel-item::after {\n",
       "  content: \"\";\n",
       "  width: 100%;\n",
       "  border-bottom: 2px solid var(--sklearn-color-text-on-default-background);\n",
       "  flex-grow: 1;\n",
       "}\n",
       "\n",
       "#sk-container-id-1 div.sk-parallel {\n",
       "  display: flex;\n",
       "  align-items: stretch;\n",
       "  justify-content: center;\n",
       "  background-color: var(--sklearn-color-background);\n",
       "  position: relative;\n",
       "}\n",
       "\n",
       "#sk-container-id-1 div.sk-parallel-item {\n",
       "  display: flex;\n",
       "  flex-direction: column;\n",
       "}\n",
       "\n",
       "#sk-container-id-1 div.sk-parallel-item:first-child::after {\n",
       "  align-self: flex-end;\n",
       "  width: 50%;\n",
       "}\n",
       "\n",
       "#sk-container-id-1 div.sk-parallel-item:last-child::after {\n",
       "  align-self: flex-start;\n",
       "  width: 50%;\n",
       "}\n",
       "\n",
       "#sk-container-id-1 div.sk-parallel-item:only-child::after {\n",
       "  width: 0;\n",
       "}\n",
       "\n",
       "/* Serial-specific style estimator block */\n",
       "\n",
       "#sk-container-id-1 div.sk-serial {\n",
       "  display: flex;\n",
       "  flex-direction: column;\n",
       "  align-items: center;\n",
       "  background-color: var(--sklearn-color-background);\n",
       "  padding-right: 1em;\n",
       "  padding-left: 1em;\n",
       "}\n",
       "\n",
       "\n",
       "/* Toggleable style: style used for estimator/Pipeline/ColumnTransformer box that is\n",
       "clickable and can be expanded/collapsed.\n",
       "- Pipeline and ColumnTransformer use this feature and define the default style\n",
       "- Estimators will overwrite some part of the style using the `sk-estimator` class\n",
       "*/\n",
       "\n",
       "/* Pipeline and ColumnTransformer style (default) */\n",
       "\n",
       "#sk-container-id-1 div.sk-toggleable {\n",
       "  /* Default theme specific background. It is overwritten whether we have a\n",
       "  specific estimator or a Pipeline/ColumnTransformer */\n",
       "  background-color: var(--sklearn-color-background);\n",
       "}\n",
       "\n",
       "/* Toggleable label */\n",
       "#sk-container-id-1 label.sk-toggleable__label {\n",
       "  cursor: pointer;\n",
       "  display: block;\n",
       "  width: 100%;\n",
       "  margin-bottom: 0;\n",
       "  padding: 0.5em;\n",
       "  box-sizing: border-box;\n",
       "  text-align: center;\n",
       "}\n",
       "\n",
       "#sk-container-id-1 label.sk-toggleable__label-arrow:before {\n",
       "  /* Arrow on the left of the label */\n",
       "  content: \"▸\";\n",
       "  float: left;\n",
       "  margin-right: 0.25em;\n",
       "  color: var(--sklearn-color-icon);\n",
       "}\n",
       "\n",
       "#sk-container-id-1 label.sk-toggleable__label-arrow:hover:before {\n",
       "  color: var(--sklearn-color-text);\n",
       "}\n",
       "\n",
       "/* Toggleable content - dropdown */\n",
       "\n",
       "#sk-container-id-1 div.sk-toggleable__content {\n",
       "  max-height: 0;\n",
       "  max-width: 0;\n",
       "  overflow: hidden;\n",
       "  text-align: left;\n",
       "  /* unfitted */\n",
       "  background-color: var(--sklearn-color-unfitted-level-0);\n",
       "}\n",
       "\n",
       "#sk-container-id-1 div.sk-toggleable__content.fitted {\n",
       "  /* fitted */\n",
       "  background-color: var(--sklearn-color-fitted-level-0);\n",
       "}\n",
       "\n",
       "#sk-container-id-1 div.sk-toggleable__content pre {\n",
       "  margin: 0.2em;\n",
       "  border-radius: 0.25em;\n",
       "  color: var(--sklearn-color-text);\n",
       "  /* unfitted */\n",
       "  background-color: var(--sklearn-color-unfitted-level-0);\n",
       "}\n",
       "\n",
       "#sk-container-id-1 div.sk-toggleable__content.fitted pre {\n",
       "  /* unfitted */\n",
       "  background-color: var(--sklearn-color-fitted-level-0);\n",
       "}\n",
       "\n",
       "#sk-container-id-1 input.sk-toggleable__control:checked~div.sk-toggleable__content {\n",
       "  /* Expand drop-down */\n",
       "  max-height: 200px;\n",
       "  max-width: 100%;\n",
       "  overflow: auto;\n",
       "}\n",
       "\n",
       "#sk-container-id-1 input.sk-toggleable__control:checked~label.sk-toggleable__label-arrow:before {\n",
       "  content: \"▾\";\n",
       "}\n",
       "\n",
       "/* Pipeline/ColumnTransformer-specific style */\n",
       "\n",
       "#sk-container-id-1 div.sk-label input.sk-toggleable__control:checked~label.sk-toggleable__label {\n",
       "  color: var(--sklearn-color-text);\n",
       "  background-color: var(--sklearn-color-unfitted-level-2);\n",
       "}\n",
       "\n",
       "#sk-container-id-1 div.sk-label.fitted input.sk-toggleable__control:checked~label.sk-toggleable__label {\n",
       "  background-color: var(--sklearn-color-fitted-level-2);\n",
       "}\n",
       "\n",
       "/* Estimator-specific style */\n",
       "\n",
       "/* Colorize estimator box */\n",
       "#sk-container-id-1 div.sk-estimator input.sk-toggleable__control:checked~label.sk-toggleable__label {\n",
       "  /* unfitted */\n",
       "  background-color: var(--sklearn-color-unfitted-level-2);\n",
       "}\n",
       "\n",
       "#sk-container-id-1 div.sk-estimator.fitted input.sk-toggleable__control:checked~label.sk-toggleable__label {\n",
       "  /* fitted */\n",
       "  background-color: var(--sklearn-color-fitted-level-2);\n",
       "}\n",
       "\n",
       "#sk-container-id-1 div.sk-label label.sk-toggleable__label,\n",
       "#sk-container-id-1 div.sk-label label {\n",
       "  /* The background is the default theme color */\n",
       "  color: var(--sklearn-color-text-on-default-background);\n",
       "}\n",
       "\n",
       "/* On hover, darken the color of the background */\n",
       "#sk-container-id-1 div.sk-label:hover label.sk-toggleable__label {\n",
       "  color: var(--sklearn-color-text);\n",
       "  background-color: var(--sklearn-color-unfitted-level-2);\n",
       "}\n",
       "\n",
       "/* Label box, darken color on hover, fitted */\n",
       "#sk-container-id-1 div.sk-label.fitted:hover label.sk-toggleable__label.fitted {\n",
       "  color: var(--sklearn-color-text);\n",
       "  background-color: var(--sklearn-color-fitted-level-2);\n",
       "}\n",
       "\n",
       "/* Estimator label */\n",
       "\n",
       "#sk-container-id-1 div.sk-label label {\n",
       "  font-family: monospace;\n",
       "  font-weight: bold;\n",
       "  display: inline-block;\n",
       "  line-height: 1.2em;\n",
       "}\n",
       "\n",
       "#sk-container-id-1 div.sk-label-container {\n",
       "  text-align: center;\n",
       "}\n",
       "\n",
       "/* Estimator-specific */\n",
       "#sk-container-id-1 div.sk-estimator {\n",
       "  font-family: monospace;\n",
       "  border: 1px dotted var(--sklearn-color-border-box);\n",
       "  border-radius: 0.25em;\n",
       "  box-sizing: border-box;\n",
       "  margin-bottom: 0.5em;\n",
       "  /* unfitted */\n",
       "  background-color: var(--sklearn-color-unfitted-level-0);\n",
       "}\n",
       "\n",
       "#sk-container-id-1 div.sk-estimator.fitted {\n",
       "  /* fitted */\n",
       "  background-color: var(--sklearn-color-fitted-level-0);\n",
       "}\n",
       "\n",
       "/* on hover */\n",
       "#sk-container-id-1 div.sk-estimator:hover {\n",
       "  /* unfitted */\n",
       "  background-color: var(--sklearn-color-unfitted-level-2);\n",
       "}\n",
       "\n",
       "#sk-container-id-1 div.sk-estimator.fitted:hover {\n",
       "  /* fitted */\n",
       "  background-color: var(--sklearn-color-fitted-level-2);\n",
       "}\n",
       "\n",
       "/* Specification for estimator info (e.g. \"i\" and \"?\") */\n",
       "\n",
       "/* Common style for \"i\" and \"?\" */\n",
       "\n",
       ".sk-estimator-doc-link,\n",
       "a:link.sk-estimator-doc-link,\n",
       "a:visited.sk-estimator-doc-link {\n",
       "  float: right;\n",
       "  font-size: smaller;\n",
       "  line-height: 1em;\n",
       "  font-family: monospace;\n",
       "  background-color: var(--sklearn-color-background);\n",
       "  border-radius: 1em;\n",
       "  height: 1em;\n",
       "  width: 1em;\n",
       "  text-decoration: none !important;\n",
       "  margin-left: 1ex;\n",
       "  /* unfitted */\n",
       "  border: var(--sklearn-color-unfitted-level-1) 1pt solid;\n",
       "  color: var(--sklearn-color-unfitted-level-1);\n",
       "}\n",
       "\n",
       ".sk-estimator-doc-link.fitted,\n",
       "a:link.sk-estimator-doc-link.fitted,\n",
       "a:visited.sk-estimator-doc-link.fitted {\n",
       "  /* fitted */\n",
       "  border: var(--sklearn-color-fitted-level-1) 1pt solid;\n",
       "  color: var(--sklearn-color-fitted-level-1);\n",
       "}\n",
       "\n",
       "/* On hover */\n",
       "div.sk-estimator:hover .sk-estimator-doc-link:hover,\n",
       ".sk-estimator-doc-link:hover,\n",
       "div.sk-label-container:hover .sk-estimator-doc-link:hover,\n",
       ".sk-estimator-doc-link:hover {\n",
       "  /* unfitted */\n",
       "  background-color: var(--sklearn-color-unfitted-level-3);\n",
       "  color: var(--sklearn-color-background);\n",
       "  text-decoration: none;\n",
       "}\n",
       "\n",
       "div.sk-estimator.fitted:hover .sk-estimator-doc-link.fitted:hover,\n",
       ".sk-estimator-doc-link.fitted:hover,\n",
       "div.sk-label-container:hover .sk-estimator-doc-link.fitted:hover,\n",
       ".sk-estimator-doc-link.fitted:hover {\n",
       "  /* fitted */\n",
       "  background-color: var(--sklearn-color-fitted-level-3);\n",
       "  color: var(--sklearn-color-background);\n",
       "  text-decoration: none;\n",
       "}\n",
       "\n",
       "/* Span, style for the box shown on hovering the info icon */\n",
       ".sk-estimator-doc-link span {\n",
       "  display: none;\n",
       "  z-index: 9999;\n",
       "  position: relative;\n",
       "  font-weight: normal;\n",
       "  right: .2ex;\n",
       "  padding: .5ex;\n",
       "  margin: .5ex;\n",
       "  width: min-content;\n",
       "  min-width: 20ex;\n",
       "  max-width: 50ex;\n",
       "  color: var(--sklearn-color-text);\n",
       "  box-shadow: 2pt 2pt 4pt #999;\n",
       "  /* unfitted */\n",
       "  background: var(--sklearn-color-unfitted-level-0);\n",
       "  border: .5pt solid var(--sklearn-color-unfitted-level-3);\n",
       "}\n",
       "\n",
       ".sk-estimator-doc-link.fitted span {\n",
       "  /* fitted */\n",
       "  background: var(--sklearn-color-fitted-level-0);\n",
       "  border: var(--sklearn-color-fitted-level-3);\n",
       "}\n",
       "\n",
       ".sk-estimator-doc-link:hover span {\n",
       "  display: block;\n",
       "}\n",
       "\n",
       "/* \"?\"-specific style due to the `<a>` HTML tag */\n",
       "\n",
       "#sk-container-id-1 a.estimator_doc_link {\n",
       "  float: right;\n",
       "  font-size: 1rem;\n",
       "  line-height: 1em;\n",
       "  font-family: monospace;\n",
       "  background-color: var(--sklearn-color-background);\n",
       "  border-radius: 1rem;\n",
       "  height: 1rem;\n",
       "  width: 1rem;\n",
       "  text-decoration: none;\n",
       "  /* unfitted */\n",
       "  color: var(--sklearn-color-unfitted-level-1);\n",
       "  border: var(--sklearn-color-unfitted-level-1) 1pt solid;\n",
       "}\n",
       "\n",
       "#sk-container-id-1 a.estimator_doc_link.fitted {\n",
       "  /* fitted */\n",
       "  border: var(--sklearn-color-fitted-level-1) 1pt solid;\n",
       "  color: var(--sklearn-color-fitted-level-1);\n",
       "}\n",
       "\n",
       "/* On hover */\n",
       "#sk-container-id-1 a.estimator_doc_link:hover {\n",
       "  /* unfitted */\n",
       "  background-color: var(--sklearn-color-unfitted-level-3);\n",
       "  color: var(--sklearn-color-background);\n",
       "  text-decoration: none;\n",
       "}\n",
       "\n",
       "#sk-container-id-1 a.estimator_doc_link.fitted:hover {\n",
       "  /* fitted */\n",
       "  background-color: var(--sklearn-color-fitted-level-3);\n",
       "}\n",
       "</style><div id=\"sk-container-id-1\" class=\"sk-top-container\"><div class=\"sk-text-repr-fallback\"><pre>LogisticRegression(max_iter=1000)</pre><b>In a Jupyter environment, please rerun this cell to show the HTML representation or trust the notebook. <br />On GitHub, the HTML representation is unable to render, please try loading this page with nbviewer.org.</b></div><div class=\"sk-container\" hidden><div class=\"sk-item\"><div class=\"sk-estimator fitted sk-toggleable\"><input class=\"sk-toggleable__control sk-hidden--visually\" id=\"sk-estimator-id-1\" type=\"checkbox\" checked><label for=\"sk-estimator-id-1\" class=\"sk-toggleable__label fitted sk-toggleable__label-arrow fitted\">&nbsp;&nbsp;LogisticRegression<a class=\"sk-estimator-doc-link fitted\" rel=\"noreferrer\" target=\"_blank\" href=\"https://scikit-learn.org/1.4/modules/generated/sklearn.linear_model.LogisticRegression.html\">?<span>Documentation for LogisticRegression</span></a><span class=\"sk-estimator-doc-link fitted\">i<span>Fitted</span></span></label><div class=\"sk-toggleable__content fitted\"><pre>LogisticRegression(max_iter=1000)</pre></div> </div></div></div></div>"
      ],
      "text/plain": [
       "LogisticRegression(max_iter=1000)"
      ]
     },
     "execution_count": 8,
     "metadata": {},
     "output_type": "execute_result"
    }
   ],
   "source": [
    "from sklearn.linear_model import LogisticRegression\n",
    "from sklearn.metrics import classification_report, confusion_matrix\n",
    "import matplotlib.pyplot as plt\n",
    "import seaborn as sns\n",
    "\n",
    "model = LogisticRegression(max_iter=1000)\n",
    "model.fit(X_train, y_train)\n"
   ]
  },
  {
   "cell_type": "code",
   "execution_count": 9,
   "metadata": {},
   "outputs": [
    {
     "name": "stdout",
     "output_type": "stream",
     "text": [
      "              precision    recall  f1-score   support\n",
      "\n",
      "         0.0       0.88      1.00      0.94       149\n",
      "         1.0       0.00      0.00      0.00        20\n",
      "\n",
      "    accuracy                           0.88       169\n",
      "   macro avg       0.44      0.50      0.47       169\n",
      "weighted avg       0.78      0.88      0.83       169\n",
      "\n"
     ]
    },
    {
     "name": "stderr",
     "output_type": "stream",
     "text": [
      "c:\\Users\\oussa\\AppData\\Local\\Programs\\Python\\Python312\\Lib\\site-packages\\sklearn\\metrics\\_classification.py:1497: UndefinedMetricWarning: Precision is ill-defined and being set to 0.0 in labels with no predicted samples. Use `zero_division` parameter to control this behavior.\n",
      "  _warn_prf(average, modifier, f\"{metric.capitalize()} is\", len(result))\n",
      "c:\\Users\\oussa\\AppData\\Local\\Programs\\Python\\Python312\\Lib\\site-packages\\sklearn\\metrics\\_classification.py:1497: UndefinedMetricWarning: Precision is ill-defined and being set to 0.0 in labels with no predicted samples. Use `zero_division` parameter to control this behavior.\n",
      "  _warn_prf(average, modifier, f\"{metric.capitalize()} is\", len(result))\n",
      "c:\\Users\\oussa\\AppData\\Local\\Programs\\Python\\Python312\\Lib\\site-packages\\sklearn\\metrics\\_classification.py:1497: UndefinedMetricWarning: Precision is ill-defined and being set to 0.0 in labels with no predicted samples. Use `zero_division` parameter to control this behavior.\n",
      "  _warn_prf(average, modifier, f\"{metric.capitalize()} is\", len(result))\n"
     ]
    },
    {
     "data": {
      "image/png": "[encoded data removed]",
      "text/plain": [
       "<Figure size 640x480 with 2 Axes>"
      ]
     },
     "metadata": {},
     "output_type": "display_data"
    }
   ],
   "source": [
    "y_pred = model.predict(X_test)\n",
    "\n",
    "print(classification_report(y_test, y_pred))\n",
    "cm = confusion_matrix(y_test, y_pred)\n",
    "sns.heatmap(cm, annot=True, fmt='d')\n",
    "plt.title('Confusion Matrix')\n",
    "plt.show()\n"
   ]
  },
  {
   "cell_type": "code",
   "execution_count": 10,
   "metadata": {},
   "outputs": [
    {
     "data": {
      "image/png": "[encoded data removed]",
      "text/plain": [
       "<Figure size 1000x800 with 1 Axes>"
      ]
     },
     "metadata": {},
     "output_type": "display_data"
    }
   ],
   "source": [
    "feature_importance = pd.DataFrame({'Feature': X.columns, 'Importance': model.coef_[0]})\n",
    "feature_importance.sort_values(by='Importance', ascending=False, inplace=True)\n",
    "\n",
    "plt.figure(figsize=(10, 8))\n",
    "sns.barplot(data=feature_importance, x='Importance', y='Feature')\n",
    "plt.title('Feature Importances in Predicting Villains')\n",
    "plt.show()\n"
   ]
  },
  {
   "cell_type": "code",
   "execution_count": null,
   "metadata": {},
   "outputs": [],
   "source": []
  }
 ],
 "metadata": {
  "colab": {
   "provenance": []
  },
  "kernelspec": {
   "display_name": "Python 3 (ipykernel)",
   "language": "python",
   "name": "python3"
  },
  "language_info": {
   "codemirror_mode": {
    "name": "ipython",
    "version": 3
   },
   "file_extension": ".py",
   "mimetype": "text/x-python",
   "name": "python",
   "nbconvert_exporter": "python",
   "pygments_lexer": "ipython3",
   "version": "3.12.1"
  },
  "vscode": {
   "interpreter": {
    "hash": "9df1e68bf46b73c6ebe6a76ad55019ef4844b94d3c6c2e70b2602d401fb2ac5d"
   }
  }
 },
 "nbformat": 4,
 "nbformat_minor": 1
}
